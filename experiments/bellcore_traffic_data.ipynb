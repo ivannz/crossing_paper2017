{
 "cells": [
  {
   "cell_type": "markdown",
   "metadata": {},
   "source": [
    "# Bellcore LAN traffic"
   ]
  },
  {
   "cell_type": "markdown",
   "metadata": {},
   "source": [
    "This notebook uses uncompressed data from [here](http://ita.ee.lbl.gov/html/contrib/BC.html).\n",
    "Namely the datasets: **BC-pAug89** and **BC-pOct89**.\n",
    "\n",
    "Description:\n",
    "> The files whose names end in TL are ASCII-format tracing data, consisting of\n",
    "one 20-byte line per Ethernet packet arrival. Each line contains a floating-\n",
    "point time stamp (representing the time in seconds since the start of a trace)\n",
    "and an integer length (representing the Ethernet data length in bytes).\n",
    "Although the times are expressed to 6 places after the decimal point, giving\n",
    "the appearance of microsecond resolution, the hardware clock had an actual\n",
    "resolution of 4 microseconds. Our testing of the entire monitor suggests that\n",
    "jitter in the inner code loop and (much more seriously) bus contention limited\n",
    "the actual accuracy to roughly 10 microseconds. The length field does not\n",
    "include the Ethernet preamble, header, or CRC; however, the Ethernet protocol\n",
    "forces all packets to have at least the minimum size of 64 bytes and at most\n",
    "the maximum size of 1518 bytes. 99.5% of the encapsulated packets carried by\n",
    "the Ethernet PDUs were IP. All traces were conducted on an Ethernet cable at\n",
    "the Bellcore Morristown Research and Engineering facility, building MRE-2.\n",
    "At that time, the Ethernet cable nicknamed the \"purple cable\" carried not\n",
    "only a major portion of our Lab's traffic but also all traffic to and from\n",
    "the internet and all of Bellcore. The records include all complete packets\n",
    "(the monitor did not artificially \"clip\" traffic bursts), but do not include\n",
    "any fragments or collisions. These samples are excerpts from approximately\n",
    "300 million arrivals recorded; the complete trace records included Ethernet\n",
    "status flags, the Ethernet source and destination, and the first 60 bytes of\n",
    "each encapsulated packet (allowing identification of higher-level protocols,\n",
    "IP source and destination fields, and so on)."
   ]
  },
  {
   "cell_type": "code",
   "execution_count": null,
   "metadata": {
    "collapsed": true
   },
   "outputs": [],
   "source": [
    "import numpy as np\n",
    "\n",
    "%matplotlib inline\n",
    "import matplotlib.pyplot as plt"
   ]
  },
  {
   "cell_type": "markdown",
   "metadata": {},
   "source": [
    "Load the data with numpy."
   ]
  },
  {
   "cell_type": "code",
   "execution_count": null,
   "metadata": {
    "collapsed": false
   },
   "outputs": [],
   "source": [
    "pAug89_t, pAug89_x = np.loadtxt(\"./BC-pAug89.TL\", unpack=True)\n",
    "pOct89_t, pOct89_x = np.loadtxt(\"./BC-pOct89.TL\", unpack=True)"
   ]
  },
  {
   "cell_type": "markdown",
   "metadata": {},
   "source": [
    "Estimate the mean packet size and produce a random walk without the drift."
   ]
  },
  {
   "cell_type": "code",
   "execution_count": null,
   "metadata": {
    "collapsed": false
   },
   "outputs": [],
   "source": [
    "drift = pAug89_x.mean()\n",
    "T, X = pAug89_t.copy(), (pAug89_x - drift).cumsum()\n",
    "\n",
    "drift = pOct89_x.mean()\n",
    "T, X = pOct89_t.copy(), (pOct89_x - drift).cumsum()\n",
    "\n",
    "print \"%0.4f\"%drift"
   ]
  },
  {
   "cell_type": "markdown",
   "metadata": {},
   "source": [
    "Construct the crossing tree for the traffic data"
   ]
  },
  {
   "cell_type": "code",
   "execution_count": null,
   "metadata": {
    "collapsed": true
   },
   "outputs": [],
   "source": [
    "from crossing_tree import crossing_tree\n",
    "\n",
    "## Set the base scale to the median\n",
    "scale = np.median(np.abs(np.diff(X)))\n",
    "origin = X[0]\n",
    "\n",
    "## Build a crossing tree\n",
    "xi, ti, offspring, Vnk, Znk, Wnk = crossing_tree(X, T, scale, origin=origin)\n",
    "\n",
    "# Rebuild the tree\n",
    "index = list([offspring[0]])\n",
    "for index_ in offspring[1:]:\n",
    "    index.append(index[-1][index_])\n",
    "\n",
    "Xnk = [xi.base[index_] for index_ in index]\n",
    "Tnk = [ti.base[index_] for index_ in index]"
   ]
  },
  {
   "cell_type": "markdown",
   "metadata": {},
   "source": [
    "Plot the crossing times for the las t 4 levels of the tree."
   ]
  },
  {
   "cell_type": "code",
   "execution_count": null,
   "metadata": {
    "collapsed": false
   },
   "outputs": [],
   "source": [
    "l = len(Tnk) - 2\n",
    "levels = np.arange(l-4, l+1, dtype=np.int)\n",
    "\n",
    "## Plot the sample path                                      \n",
    "fig = plt.figure(figsize=(6, 5))\n",
    "ax = fig.add_subplot(111)\n",
    "\n",
    "ax.set_xticks(Tnk[levels[0]], minor=True)\n",
    "\n",
    "delta = 2 * scale * (1 << levels[0])\n",
    "xm, xM = (Xnk[levels[0]] - origin).min() / delta, (Xnk[levels[0]] - origin).max() / delta\n",
    "ax.set_yticks(origin + np.arange(xm-1, xM+2) * delta)\n",
    "\n",
    "ax.plot(T, X, linestyle='-', color='gray', label='X(t)', alpha=0.5)\n",
    "color=plt.cm.rainbow_r(np.linspace(0, 1, len(levels)))\n",
    "for j, col_ in zip(levels, color):\n",
    "    ax.plot(Tnk[j], Xnk[j], '-s', color=col_, markersize=4, alpha=0.75)\n",
    "\n",
    "ax.set_xlim(left=-50)\n",
    "\n",
    "ax.grid(color='k', linestyle='-', alpha=0.15, zorder=-99)"
   ]
  },
  {
   "cell_type": "markdown",
   "metadata": {},
   "source": [
    "Plot the crossing tree"
   ]
  },
  {
   "cell_type": "code",
   "execution_count": null,
   "metadata": {
    "collapsed": false
   },
   "outputs": [],
   "source": [
    "fig = plt.figure(figsize=(6, 5))\n",
    "ax = fig.add_subplot(111)\n",
    "\n",
    "ax.set_xticks(Tnk[levels[0]], minor=True)\n",
    "\n",
    "colors = plt.cm.rainbow_r(np.linspace(0, 1, len(levels)))\n",
    "for j, col_ in zip(levels, colors):\n",
    "    lht0, lht1 = Tnk[j], Tnk[j+1]\n",
    "    offs_ = offspring[j+1]\n",
    "    parent = np.repeat(np.arange(len(offs_) - 1), np.diff(offs_))\n",
    "    parent = np.r_[parent, np.repeat(len(offs_) - 1, len(lht0) - offs_[-1])]\n",
    "    p_ti = np.r_[np.repeat(np.nan, offs_[0]), lht1[parent]]\n",
    "## Draw the line segments between two levels\n",
    "    delta = (1 << j)\n",
    "    ax.plot([p_ti, lht0], [len(lht0) * [2 * delta], len(lht0) * [delta]],\n",
    "            '-s', color=col_, markersize=2, lw=.5)\n",
    "\n",
    "ax.grid(color='k', linestyle='-', alpha=0.05, zorder=-99)\n",
    "\n",
    "ax.set_yscale(\"log\", basey=2)\n",
    "ax.set_ylim(0.9 * (1 << levels[0]), 1.1 * (1 << levels[-1] + 1))\n",
    "\n",
    "ax.set_xlim(left=-50)\n",
    "\n",
    "ax.set_ylabel(r\"$\\delta \\times 2^k$\")"
   ]
  },
  {
   "cell_type": "markdown",
   "metadata": {},
   "source": [
    "Get the structural statistics of the crossing tree for de-drifted traffic data."
   ]
  },
  {
   "cell_type": "code",
   "execution_count": null,
   "metadata": {
    "collapsed": true
   },
   "outputs": [],
   "source": [
    "from crossing_tree import structural_statistics\n",
    "\n",
    "scale = np.median(np.abs(np.diff(X)))\n",
    "scale, Nn, Dnk, Vnde, Wnp, Wavgn, Wstdn = structural_statistics(X, T, scale)"
   ]
  },
  {
   "cell_type": "markdown",
   "metadata": {},
   "source": [
    "Estimate the hurst exponent based on the offspring distribution."
   ]
  },
  {
   "cell_type": "code",
   "execution_count": null,
   "metadata": {
    "collapsed": true
   },
   "outputs": [],
   "source": [
    "def offspring_hurst(Dmnk, levels, laplace=False):\n",
    "    # Get pooled frequencies\n",
    "    Dmj = Dmnk[:, levels].sum(axis=2, dtype=np.float)\n",
    "\n",
    "    # Compute the sum of the left-closed tails sums,\n",
    "    #  and divide by the total number of offspring.\n",
    "    Mmj = 2 * Dmnk[:, levels, ::-1].cumsum(axis=-1).sum(axis=-1) / Dmj\n",
    "    Hmj = np.log(2) / np.log(Mmj)\n",
    "    levels = np.arange(Dmnk.shape[1], dtype=np.int)[levels]\n",
    "    return levels + 1, np.nanmean(Hmj, axis=0), np.nanstd(Hmj, axis=0)"
   ]
  },
  {
   "cell_type": "markdown",
   "metadata": {},
   "source": [
    "Plot the hurst exponents."
   ]
  },
  {
   "cell_type": "code",
   "execution_count": null,
   "metadata": {
    "collapsed": false
   },
   "outputs": [],
   "source": [
    "levels, Hj_avg, Hj_std = offspring_hurst(Dnk[np.newaxis], slice(0, None))\n",
    "plt.plot(levels, Hj_avg)"
   ]
  },
  {
   "cell_type": "markdown",
   "metadata": {},
   "source": [
    "$$ (\\delta 2^n )^{-\\frac{1}{h}} \\mathbb{E} W^n = \\mathcal{O}(1) \\,, $$\n",
    "$$ \\log_2 \\mathbb{E} W^n \\sim \\beta_0 + \\beta (\\log_2\\delta + n) \\,. $$"
   ]
  },
  {
   "cell_type": "code",
   "execution_count": null,
   "metadata": {
    "collapsed": true
   },
   "outputs": [],
   "source": [
    "from sklearn.linear_model import LinearRegression"
   ]
  },
  {
   "cell_type": "code",
   "execution_count": null,
   "metadata": {
    "collapsed": true
   },
   "outputs": [],
   "source": [
    "X = np.arange(len(Wavgn) - 1, dtype=float)[:, np.newaxis]# + np.log2(scale) - 14\n",
    "y = np.log2(Wavgn[:-1])"
   ]
  },
  {
   "cell_type": "code",
   "execution_count": null,
   "metadata": {
    "collapsed": false
   },
   "outputs": [],
   "source": [
    "reg_ = LinearRegression().fit(X, y)\n",
    "print reg_.intercept_, 1.0 / reg_.coef_[0]"
   ]
  },
  {
   "cell_type": "markdown",
   "metadata": {},
   "source": [
    "Try to make a sliding estimate of the hurst exponent with the tree.\n",
    "An estimator that compute rolling crossing tree statistics for a sample path."
   ]
  },
  {
   "cell_type": "code",
   "execution_count": null,
   "metadata": {
    "collapsed": true
   },
   "outputs": [],
   "source": [
    "from joblib import Parallel, delayed\n",
    "from numpy.lib.stride_tricks import as_strided\n",
    "from crossing_tree import collect_structural_statistics\n",
    "\n",
    "def _strided_window(arr, width, stride):\n",
    "    n_steps = (arr.shape[0] - window - 1) // stride\n",
    "    return as_strided(arr, shape=(1 + n_steps, window,),\n",
    "                      strides=(stride * arr.strides[0], arr.strides[0],))\n",
    "\n",
    "def rolling_tree(T, X, window=1<<15, stride=1<<10, common_scale=True,\n",
    "                 n_jobs=1, verbose=0):\n",
    "    path_windows = zip(_strided_window(T, window, stride),\n",
    "                       _strided_window(X, window, stride))\n",
    "\n",
    "    if common_scale:\n",
    "#         scale = np.median(np.abs(np.diff(X)))\n",
    "        scale = np.diff(X).std()\n",
    "        trees_ = (delayed(structural_statistics)(xx, tt, scale)\n",
    "                  for tt, xx in path_windows)\n",
    "    else:\n",
    "#         trees_ = (delayed(structural_statistics)(xx, tt, np.median(np.abs(np.diff(xx))))\n",
    "#                   for tt, xx in path_windows)\n",
    "        trees_ = (delayed(structural_statistics)(xx, tt, np.diff(xx).std())\n",
    "                  for tt, xx in path_windows)\n",
    "\n",
    "    par_ = Parallel(n_jobs=n_jobs, verbose=verbose)\n",
    "    return collect_structural_statistics(par_(trees_))\n"
   ]
  },
  {
   "cell_type": "markdown",
   "metadata": {},
   "source": [
    "Compute for **pAug89**"
   ]
  },
  {
   "cell_type": "code",
   "execution_count": null,
   "metadata": {
    "collapsed": true
   },
   "outputs": [],
   "source": [
    "from crossing_tree.processes import FractionalBrownianMotion"
   ]
  },
  {
   "cell_type": "code",
   "execution_count": null,
   "metadata": {
    "collapsed": true
   },
   "outputs": [],
   "source": [
    "FBM = FractionalBrownianMotion(N=1<<20, hurst=0.5, random_state=1234, n_threads=4)"
   ]
  },
  {
   "cell_type": "code",
   "execution_count": null,
   "metadata": {
    "collapsed": true
   },
   "outputs": [],
   "source": [
    "FBM.start()"
   ]
  },
  {
   "cell_type": "code",
   "execution_count": null,
   "metadata": {
    "collapsed": true
   },
   "outputs": [],
   "source": [
    "T, X = FBM.draw()"
   ]
  },
  {
   "cell_type": "code",
   "execution_count": null,
   "metadata": {
    "collapsed": true
   },
   "outputs": [],
   "source": [
    "import cython"
   ]
  },
  {
   "cell_type": "code",
   "execution_count": null,
   "metadata": {
    "collapsed": false
   },
   "outputs": [],
   "source": [
    "# drift = pAug89_x.mean()\n",
    "# T, X = pAug89_t.copy(), (pAug89_x - drift).cumsum()\n",
    "\n",
    "# window, stride = 1 << 10, 1 << 9\n",
    "# window, stride = 1 << 16, 1 << 15\n",
    "window, stride = 1 << 17, 1 << 10\n",
    "# window, stride = 1 << 22, 1 << 15\n",
    "\n",
    "result = rolling_tree(T, X, window=window, stride=stride,\n",
    "                      common_scale=False, n_jobs=-1, verbose=1)\n",
    "\n",
    "scale_m, Nmn, Dmnk, Vmnde, Wmnp, Wavgmn, Wstdmn = result"
   ]
  },
  {
   "cell_type": "code",
   "execution_count": null,
   "metadata": {
    "collapsed": false
   },
   "outputs": [],
   "source": [
    "plt.plot(T, X)"
   ]
  },
  {
   "cell_type": "code",
   "execution_count": null,
   "metadata": {
    "collapsed": false
   },
   "outputs": [],
   "source": [
    "XX = np.c_[np.ones(Wavgmn.shape[1]-5), np.arange(Wavgmn.shape[1]-5, dtype=np.float)[:, np.newaxis]]\n",
    "beta_ = np.linalg.solve(np.dot(XX.T, XX), np.dot(XX.T, np.log2(Wavgmn[:, :-5].T)))"
   ]
  },
  {
   "cell_type": "code",
   "execution_count": null,
   "metadata": {
    "collapsed": false
   },
   "outputs": [],
   "source": [
    "hurst_ = 1.0 / np.nanmean(np.diff(np.log2(Wavgmn[:, :-5]), axis=-1), axis=-1)"
   ]
  },
  {
   "cell_type": "code",
   "execution_count": null,
   "metadata": {
    "collapsed": false
   },
   "outputs": [],
   "source": [
    "Hmj = np.stack([offspring_hurst(Dnk[np.newaxis], slice(0, None))[1]\n",
    "                for Dnk in Dmnk])"
   ]
  },
  {
   "cell_type": "code",
   "execution_count": null,
   "metadata": {
    "collapsed": false
   },
   "outputs": [],
   "source": [
    "hurst_"
   ]
  },
  {
   "cell_type": "code",
   "execution_count": null,
   "metadata": {
    "collapsed": false
   },
   "outputs": [],
   "source": [
    "plt.plot(np.nanmean(Hmj[:, 2:-4], axis=-1))\n",
    "# plt.plot(Hmj[:, 2:-4])\n",
    "plt.plot(hurst_, \"k\")\n",
    "# plt.plot(1.0 / beta_[1], \"k\")"
   ]
  },
  {
   "cell_type": "code",
   "execution_count": null,
   "metadata": {
    "collapsed": false
   },
   "outputs": [],
   "source": [
    "plt.plot(np.nanmean(Hmj[:, 4:-6], axis=-1))"
   ]
  },
  {
   "cell_type": "code",
   "execution_count": null,
   "metadata": {
    "collapsed": false
   },
   "outputs": [],
   "source": [
    "plt.plot(Hmj[:, ::-1][:, 7:-6])"
   ]
  },
  {
   "cell_type": "code",
   "execution_count": null,
   "metadata": {
    "collapsed": false
   },
   "outputs": [],
   "source": [
    "plt.plot(Hmj[:, 7:11])"
   ]
  },
  {
   "cell_type": "code",
   "execution_count": null,
   "metadata": {
    "collapsed": false
   },
   "outputs": [],
   "source": [
    "plt.plot(Hmj[:, 7:10].mean(axis=-1))"
   ]
  },
  {
   "cell_type": "code",
   "execution_count": null,
   "metadata": {
    "collapsed": false
   },
   "outputs": [],
   "source": [
    "plt.plot(np.log2(Nmn) / (1 + np.arange(Nmn.shape[1])[np.newaxis, ::-1]))"
   ]
  },
  {
   "cell_type": "code",
   "execution_count": null,
   "metadata": {
    "collapsed": false
   },
   "outputs": [],
   "source": [
    "Dmnk"
   ]
  },
  {
   "cell_type": "code",
   "execution_count": null,
   "metadata": {
    "collapsed": true
   },
   "outputs": [],
   "source": []
  }
 ],
 "metadata": {
  "kernelspec": {
   "display_name": "Python 2",
   "language": "python",
   "name": "python2"
  },
  "language_info": {
   "codemirror_mode": {
    "name": "ipython",
    "version": 2
   },
   "file_extension": ".py",
   "mimetype": "text/x-python",
   "name": "python",
   "nbconvert_exporter": "python",
   "pygments_lexer": "ipython2",
   "version": "2.7.10"
  }
 },
 "nbformat": 4,
 "nbformat_minor": 1
}
