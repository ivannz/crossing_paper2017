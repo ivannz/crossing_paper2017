{
 "cells": [
  {
   "cell_type": "markdown",
   "metadata": {},
   "source": [
    "# Simple Monte Carlo Experiment"
   ]
  },
  {
   "cell_type": "code",
   "execution_count": null,
   "metadata": {
    "collapsed": true
   },
   "outputs": [],
   "source": [
    "import numpy as np\n",
    "\n",
    "%matplotlib inline\n",
    "import matplotlib.pyplot as plt"
   ]
  },
  {
   "cell_type": "markdown",
   "metadata": {},
   "source": [
    "The path analyzer"
   ]
  },
  {
   "cell_type": "code",
   "execution_count": null,
   "metadata": {
    "collapsed": false
   },
   "outputs": [],
   "source": [
    "from crossing_tree import crossing_tree\n",
    "\n",
    "def path_analyze(X, T, scale=1.0):\n",
    "    xi, ti, offspring, Vnk, Znk, Wnk = crossing_tree(X, T, scale=scale, origin=X[0])\n",
    "    # for j in xrange(len(Znk)):\n",
    "    #     assert np.allclose(2 * Vnk[j][:, :2].sum(axis=1) + 2, Znk[j])\n",
    "\n",
    "    # Nn[n] -- the total number of crossings of grid with spacing \\delta 2^n\n",
    "    Nn = np.r_[len(xi), [len(index_) for index_ in offspring]] - 1\n",
    "\n",
    "    # Dnk[n][k] -- the total number of crossings of grid \\delta 2^{n+1}\n",
    "    #  with exactly 2(k+1) subcrossings of grid \\delta 2^n.\n",
    "    freq = [np.bincount(Zk)[2::2] for Zk in Znk]\n",
    "    Dnk = np.zeros((len(Znk), max(len(f) for f in freq)), np.int)\n",
    "    for l, f in enumerate(freq):\n",
    "        Dnk[l, :len(f)] = f\n",
    "\n",
    "    # Vnde[n][d][e] -- the total number of up-down(e=0) and down-up(e=1)\n",
    "    #  excursions in a downward (d=0) or upward (d=1) crossing of level\n",
    "    #  n+1\n",
    "    Vnde = np.array([(Vk[Vk[:, 2] < 0, :2].sum(axis=0),\n",
    "                      Vk[Vk[:, 2] > 0, :2].sum(axis=0))\n",
    "                     for Vk in Vnk], dtype=np.int)\n",
    "\n",
    "    # Wnp[n][p] -- the p-th empirical quantile of the n-th level crossing durations.\n",
    "    prc = [0.5, 1.0, 2.5, 5.0, 10, 25, 50, 75, 90, 95, 97.5, 99, 99.5]\n",
    "    empty_ = np.full_like(prc, np.nan)\n",
    "    Wnp = np.stack([np.percentile(Wk, prc) if len(Wk) > 0 else empty_\n",
    "                    for Wk in Wnk])\n",
    "\n",
    "    # The average crossing duration and its standard deviation\n",
    "    Wavgn = np.array([np.mean(Wk) if len(Wk) > 0 else np.nan\n",
    "                      for Wk in Wnk])\n",
    "    Wstdn = np.array([np.std(Wk) if len(Wk) > 0 else np.nan\n",
    "                      for Wk in Wnk])\n",
    "\n",
    "    return Nn, Dnk, Vnde, Wnp, Wavgn, Wstdn, scale"
   ]
  },
  {
   "cell_type": "markdown",
   "metadata": {},
   "source": [
    "An MC experiment kernel."
   ]
  },
  {
   "cell_type": "code",
   "execution_count": null,
   "metadata": {
    "collapsed": true
   },
   "outputs": [],
   "source": [
    "from sklearn.utils import check_random_state\n",
    "from crossing_tree.processes import fbm\n",
    "\n",
    "def mc_run(n_replications, delta=1.0, random_state=None, **kwargs):\n",
    "    if isinstance(delta, str):\n",
    "        if delta == \"iqr\":\n",
    "            # interquartile range\n",
    "            delta_ = lambda X: np.subtract(*np.percentile(np.diff(X), [75, 25]))\n",
    "        elif delta == \"rng\":\n",
    "            # Use the range estimate as suggested by Geoffrey on 2015-05-28\n",
    "            delta_ = lambda X: (X.max() - X.min()) / (2**6)\n",
    "        elif delta == \"med\":\n",
    "            # Use the median absolute difference [Jones, Rolls; 2009] p. 11 (0911.5204v2)\n",
    "            delta_ = lambda X: np.median(np.abs(np.diff(X)))\n",
    "        elif delta == \"std\":\n",
    "            # the standard deviation of increments\n",
    "            delta_ = lambda X: np.diff(X).std()\n",
    "        else:\n",
    "            raise ValueError(\"\"\"Invalid delta setting. Accepted values \"\"\"\n",
    "                             \"\"\"are: [`iqr`, `std`, `med`, `rng`].\"\"\")\n",
    "\n",
    "    ## setup the generator\n",
    "    gen_ = fbm(time=True, **kwargs)\n",
    "    random_state_ = check_random_state(random_state)\n",
    "    gen_.initialize(random_state_, threads=1)\n",
    "    \n",
    "    results_ = list()\n",
    "    for j in xrange(n_replications):\n",
    "        T, X = gen_()\n",
    "        scale = delta_(X)\n",
    "        results_.append(path_analyze(X, T, scale=scale))\n",
    "    return results_"
   ]
  },
  {
   "cell_type": "markdown",
   "metadata": {},
   "source": [
    "Setup the parallel backend"
   ]
  },
  {
   "cell_type": "code",
   "execution_count": null,
   "metadata": {
    "collapsed": true
   },
   "outputs": [],
   "source": [
    "from joblib import Parallel, delayed\n",
    "par_ = Parallel(n_jobs=-1, verbose=10)"
   ]
  },
  {
   "cell_type": "markdown",
   "metadata": {},
   "source": [
    "Initialize the random states"
   ]
  },
  {
   "cell_type": "code",
   "execution_count": null,
   "metadata": {
    "collapsed": true
   },
   "outputs": [],
   "source": [
    "random_state = np.random.RandomState(0xDEADC0DE)\n",
    "\n",
    "# Create a bunch of random seed\n",
    "MAX_RAND_SEED = np.iinfo(np.int32).max\n",
    "seeds = random_state.randint(MAX_RAND_SEED, size=(8,))"
   ]
  },
  {
   "cell_type": "markdown",
   "metadata": {},
   "source": [
    "Create the experiment schedule"
   ]
  },
  {
   "cell_type": "code",
   "execution_count": null,
   "metadata": {
    "collapsed": true
   },
   "outputs": [],
   "source": [
    "N, H, M = (1<<21) - 1, .65, 125\n",
    "jobs_ = (delayed(mc_run)(M, delta=\"med\", random_state=seed_, N=N, H=H) for seed_ in seeds)"
   ]
  },
  {
   "cell_type": "markdown",
   "metadata": {},
   "source": [
    "Run the experiment and flatten the results"
   ]
  },
  {
   "cell_type": "code",
   "execution_count": null,
   "metadata": {
    "collapsed": false
   },
   "outputs": [],
   "source": [
    "results_ = [res_ for list_ in par_(jobs_) for res_ in list_]"
   ]
  },
  {
   "cell_type": "markdown",
   "metadata": {},
   "source": [
    "Collect the results"
   ]
  },
  {
   "cell_type": "code",
   "execution_count": null,
   "metadata": {
    "collapsed": false
   },
   "outputs": [],
   "source": [
    "Nmn = [Nn for Nn, Dnk, Vnde, Wnp, Wavgn, Wstdn, scale in results_]\n",
    "L = max(Nn.shape[0] for Nn in Nmn)\n",
    "Nmn = np.stack([np.pad(Nn, (0, L - Nn.shape[0]), mode=\"constant\").\\\n",
    "                astype(np.float) for Nn in Nmn])\n",
    "\n",
    "Dmnk = [Dnk for Nn, Dnk, Vnde, Wnp, Wavgn, Wstdn, scale in results_]\n",
    "K = max(Dnk.shape[1] for Dnk in Dmnk)\n",
    "Dmnk = np.stack([np.pad(Dnk, ((0, L - 1 - Dnk.shape[0]), (0, K - Dnk.shape[1])),\n",
    "                        mode=\"constant\").astype(np.float)\n",
    "                 for Dnk in Dmnk])\n",
    "\n",
    "Wmnp = [Wnp for Nn, Dnk, Vnde, Wnp, Wavgn, Wstdn, scale in results_]\n",
    "Wmnp = np.stack([np.pad(Wnp, ((0, L - 1 - Wnp.shape[0]), (0, 0)),\n",
    "                        mode=\"constant\").astype(np.float)\n",
    "                 for Wnp in Wmnp])"
   ]
  },
  {
   "cell_type": "markdown",
   "metadata": {},
   "source": [
    "Plot the number of crossings"
   ]
  },
  {
   "cell_type": "code",
   "execution_count": null,
   "metadata": {
    "collapsed": false
   },
   "outputs": [],
   "source": [
    "plt.plot(np.log(Nmn.T));\n",
    "plt.show()"
   ]
  },
  {
   "cell_type": "markdown",
   "metadata": {},
   "source": [
    "Compute the probability distribution of the number of sub-crossings."
   ]
  },
  {
   "cell_type": "code",
   "execution_count": null,
   "metadata": {
    "collapsed": false
   },
   "outputs": [],
   "source": [
    "total_ = Dmnk.sum(axis=-1, keepdims=True)\n",
    "total_[total_ < 1.] = 1.0\n",
    "Dmnk /= total_"
   ]
  },
  {
   "cell_type": "markdown",
   "metadata": {},
   "source": [
    "Plot the probabilities"
   ]
  },
  {
   "cell_type": "code",
   "execution_count": null,
   "metadata": {
    "collapsed": false
   },
   "outputs": [],
   "source": [
    "from math import log\n",
    "fig = plt.figure(figsize=(16, 9))\n",
    "ax = fig.add_subplot(111)\n",
    "ax.plot(Dmnk.mean(axis=0).T)\n",
    "ax.set_yscale(\"log\", basey=2)"
   ]
  },
  {
   "cell_type": "markdown",
   "metadata": {},
   "source": [
    "Plot the quantiles of the crossing durations"
   ]
  },
  {
   "cell_type": "code",
   "execution_count": null,
   "metadata": {
    "collapsed": false
   },
   "outputs": [],
   "source": [
    "fig = plt.figure(figsize=(16, 9))\n",
    "ax=  fig.add_subplot(111)\n",
    "prc = [0.5, 1.0, 2.5, 5.0, 10, 25, 50, 75, 90, 95, 97.5, 99, 99.5]\n",
    "colors = plt.cm.rainbow_r(np.linspace(0, 1, num=len(Wmnp)))\n",
    "for Wnp, Nn, col_ in zip(Wmnp, Nmn, colors):\n",
    "    wnp_ =  Wnp / 2**(np.arange(len(Nn)-1, dtype=np.float)[:, np.newaxis]/H)\n",
    "    for wp_ in wnp_[:-5]:\n",
    "        ax.plot(wp_, prc, color=col_)\n",
    "ax.set_xscale(\"log\", basex=2)"
   ]
  },
  {
   "cell_type": "code",
   "execution_count": null,
   "metadata": {
    "collapsed": true
   },
   "outputs": [],
   "source": []
  }
 ],
 "metadata": {
  "kernelspec": {
   "display_name": "Python 2",
   "language": "python",
   "name": "python2"
  },
  "language_info": {
   "codemirror_mode": {
    "name": "ipython",
    "version": 2
   },
   "file_extension": ".py",
   "mimetype": "text/x-python",
   "name": "python",
   "nbconvert_exporter": "python",
   "pygments_lexer": "ipython2",
   "version": "2.7.10"
  }
 },
 "nbformat": 4,
 "nbformat_minor": 0
}
