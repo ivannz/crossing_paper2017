{
 "cells": [
  {
   "cell_type": "markdown",
   "metadata": {},
   "source": [
    "# the Monte Carlo experiment"
   ]
  },
  {
   "cell_type": "code",
   "execution_count": 1,
   "metadata": {
    "collapsed": true
   },
   "outputs": [],
   "source": [
    "import numpy as np\n",
    "\n",
    "%matplotlib inline\n",
    "import matplotlib.pyplot as plt"
   ]
  },
  {
   "cell_type": "markdown",
   "metadata": {},
   "source": [
    "A handy routines to store and recover python objects, in particular, the experiment resutls dictionaires."
   ]
  },
  {
   "cell_type": "code",
   "execution_count": 2,
   "metadata": {
    "collapsed": false
   },
   "outputs": [],
   "source": [
    "import time, gzip\n",
    "import os, cPickle\n",
    "\n",
    "def save(obj, path, prefix=None):\n",
    "    prefix_ = \"\" if prefix is None else \"%s_\"%(prefix,)\n",
    "    filename_ = os.path.join(path, \"%s%s.gz\"%(prefix_, time.strftime(\"%Y%m%d-%H%M%S\"),))\n",
    "    with gzip.open(filename_, \"wb+\", 9) as fout_:\n",
    "        cPickle.dump(obj, fout_)\n",
    "    return filename_\n",
    "\n",
    "def load(filename):\n",
    "    with gzip.open(filename, \"rb\") as f:\n",
    "        return cPickle.load(f)"
   ]
  },
  {
   "cell_type": "markdown",
   "metadata": {},
   "source": [
    "The path analyzer"
   ]
  },
  {
   "cell_type": "code",
   "execution_count": 3,
   "metadata": {
    "collapsed": false
   },
   "outputs": [],
   "source": [
    "from crossing_tree import structural_statistics"
   ]
  },
  {
   "cell_type": "markdown",
   "metadata": {},
   "source": [
    "Collect a list of results returned by path_analyze into aligned data tensors."
   ]
  },
  {
   "cell_type": "code",
   "execution_count": 4,
   "metadata": {
    "collapsed": false
   },
   "outputs": [],
   "source": [
    "from crossing_tree import collect_structural_statistics"
   ]
  },
  {
   "cell_type": "markdown",
   "metadata": {},
   "source": [
    "A function implementing various delta choices."
   ]
  },
  {
   "cell_type": "code",
   "execution_count": 5,
   "metadata": {
    "collapsed": false
   },
   "outputs": [],
   "source": [
    "import warnings\n",
    "\n",
    "def get_delta_method(delta=1.0):\n",
    "    if isinstance(delta, str):\n",
    "        if delta == \"std\":\n",
    "            # the standard deviation of increments\n",
    "            delta_ = lambda X: np.diff(X).std()\n",
    "        elif delta == \"med\":\n",
    "            # Use the median absolute difference [Jones, Rolls; 2009] p. 11 (arxiv:0911.5204v2)\n",
    "            delta_ = lambda X: np.median(np.abs(np.diff(X)))\n",
    "        elif delta == \"mean\":\n",
    "            # Use the mean absolute difference\n",
    "            delta_ = lambda X: np.mean(np.abs(np.diff(X)))\n",
    "        elif delta == \"iqr\":\n",
    "            # Interquartile range\n",
    "            delta_ = lambda X: np.subtract(*np.percentile(np.diff(X), [75, 25]))\n",
    "        elif delta == \"rng\":\n",
    "            # Use the range estimate as suggested by Geoffrey on 2015-05-28\n",
    "            warnings.warn(\"\"\"Use of `range`-based grid resolution \"\"\"\n",
    "                          \"\"\"is discouraged since it may cause misaligned \"\"\"\n",
    "                          \"\"\"crossing trees.\"\"\", RuntimeWarning)\n",
    "            delta_ = lambda X: (X.max() - X.min()) / (2**12)\n",
    "        else:\n",
    "            raise ValueError(\"\"\"Invalid `delta` setting. Accepted values \"\"\"\n",
    "                             \"\"\"are: [`iqr`, `std`, `med`, `rng`, `mean`].\"\"\")\n",
    "    elif isinstance(delta, float) and delta > 0:\n",
    "        delta_ = lambda X: delta\n",
    "    else:\n",
    "        raise TypeError(\"\"\"`delta` must be either a float, or a method \"\"\"\n",
    "                        \"\"\"identifier.\"\"\")\n",
    "    return delta_"
   ]
  },
  {
   "cell_type": "markdown",
   "metadata": {},
   "source": [
    "An MC experiment kernel."
   ]
  },
  {
   "cell_type": "code",
   "execution_count": 6,
   "metadata": {
    "collapsed": true
   },
   "outputs": [],
   "source": [
    "from sklearn.base import clone\n",
    "\n",
    "def experiment(experiment_id, n_replications, methods, generator):\n",
    "    generator = clone(generator)\n",
    "    generator.start()\n",
    "\n",
    "    deltas = [get_delta_method(method_) for method_ in methods]\n",
    "\n",
    "    results = {method_: list() for method_ in methods}\n",
    "    for j in xrange(n_replications):\n",
    "        T, X = generator.draw()\n",
    "\n",
    "        # Apply all methods to the same sample path.\n",
    "        for delta, method in zip(deltas, methods):\n",
    "            result_ = structural_statistics(X, T, scale=delta(X), origin=X[0])\n",
    "            results[method].append(result_)\n",
    "\n",
    "    generator.finish()\n",
    "\n",
    "    return experiment_id, results"
   ]
  },
  {
   "cell_type": "markdown",
   "metadata": {},
   "source": [
    "## Experiments"
   ]
  },
  {
   "cell_type": "code",
   "execution_count": 7,
   "metadata": {
    "collapsed": true
   },
   "outputs": [],
   "source": [
    "from joblib import Parallel, delayed"
   ]
  },
  {
   "cell_type": "markdown",
   "metadata": {},
   "source": [
    "A couple of random seeds from [here](https://www.random.org/bytes/)."
   ]
  },
  {
   "cell_type": "code",
   "execution_count": 8,
   "metadata": {
    "collapsed": true
   },
   "outputs": [],
   "source": [
    "# Extra random seeds should be prepended to the array.\n",
    "master_seeds = [0xD5F60A17, 0x26F9935C, 0x0E4C1E75, 0xDA7C4291, 0x7ABE722E,\n",
    "                0x126F3E10, 0x045300B1, 0xB0A9AD11, 0xEED05353, 0x824736C7,\n",
    "                0x7AA17C9C, 0xB695D6B1, 0x7E214411, 0x538CDEEF, 0xFD55FF46,\n",
    "                0xE14E1801, 0x872F687C, 0xA58440D9, 0xB8A273FD, 0x0BD1DD28,\n",
    "                0xAB6A6AE6, 0x7180E905, 0x870E7BAB, 0x846D0C7A, 0xAEF0422D,\n",
    "                0x16C53C83, 0xE32EA61D, 0xE0AD0A26, 0xCC90CA9A, 0x7D4020D2,]"
   ]
  },
  {
   "cell_type": "markdown",
   "metadata": {},
   "source": [
    "the Monte Carlo experiemnt is run in parallel batches, with each\n",
    "initialized to a randomly picked seed."
   ]
  },
  {
   "cell_type": "code",
   "execution_count": 9,
   "metadata": {
    "collapsed": false
   },
   "outputs": [],
   "source": [
    "MAX_RAND_SEED = np.iinfo(np.int32).max"
   ]
  },
  {
   "cell_type": "markdown",
   "metadata": {},
   "source": [
    "The folder to store the results in"
   ]
  },
  {
   "cell_type": "code",
   "execution_count": 10,
   "metadata": {
    "collapsed": true
   },
   "outputs": [],
   "source": [
    "OUTPUT_PATH = \"../results/\""
   ]
  },
  {
   "cell_type": "markdown",
   "metadata": {},
   "source": [
    "## fBM experiment"
   ]
  },
  {
   "cell_type": "code",
   "execution_count": 11,
   "metadata": {
    "collapsed": false
   },
   "outputs": [
    {
     "name": "stdout",
     "output_type": "stream",
     "text": [
      "Using seed 7D4020D2\n"
     ]
    }
   ],
   "source": [
    "from crossing_tree.processes import FractionalBrownianMotion\n",
    "\n",
    "seed = master_seeds.pop()\n",
    "print \"Using seed %X\"%(seed,)\n",
    "random_state = np.random.RandomState(seed)\n",
    "\n",
    "skip = False"
   ]
  },
  {
   "cell_type": "markdown",
   "metadata": {},
   "source": [
    "Setup"
   ]
  },
  {
   "cell_type": "code",
   "execution_count": 12,
   "metadata": {
    "collapsed": true
   },
   "outputs": [],
   "source": [
    "n_samples, methods = 1 << 23, [\"med\", \"std\", \"iqr\", \"mean\",]\n",
    "hurst_exponents = [0.500, 0.550, 0.600, 0.650, 0.700, 0.750, 0.800, 0.850, 0.900,\n",
    "                   0.910, 0.915, 0.920, 0.925, 0.930, 0.935, 0.940, 0.945, 0.950,\n",
    "                   0.990,]\n",
    "n_per_batch, n_batches = 125, 8"
   ]
  },
  {
   "cell_type": "markdown",
   "metadata": {},
   "source": [
    "Run the experiment for the Fractional Brownian Motion."
   ]
  },
  {
   "cell_type": "code",
   "execution_count": 13,
   "metadata": {
    "collapsed": false
   },
   "outputs": [
    {
     "name": "stdout",
     "output_type": "stream",
     "text": [
      "FBM-8388608-0.500-125x8 1056.620sec. ../results/FBM-8388608-0.500-125x8_20161108-162012.gz\n",
      "FBM-8388608-0.550-125x8 1133.918sec. ../results/FBM-8388608-0.550-125x8_20161108-164004.gz\n",
      "FBM-8388608-0.600-125x8 1186.027sec. ../results/FBM-8388608-0.600-125x8_20161108-170050.gz\n",
      "FBM-8388608-0.650-125x8 1231.505sec. ../results/FBM-8388608-0.650-125x8_20161108-172209.gz\n",
      "FBM-8388608-0.700-125x8 1288.416sec. ../results/FBM-8388608-0.700-125x8_20161108-174427.gz\n",
      "FBM-8388608-0.750-125x8 1351.370sec. ../results/FBM-8388608-0.750-125x8_20161108-180744.gz\n",
      "FBM-8388608-0.800-125x8 1420.173sec. ../results/FBM-8388608-0.800-125x8_20161108-183207.gz\n",
      "FBM-8388608-0.850-125x8 1500.556sec. ../results/FBM-8388608-0.850-125x8_20161108-185753.gz\n",
      "FBM-8388608-0.900-125x8 1604.555sec. ../results/FBM-8388608-0.900-125x8_20161108-192519.gz\n",
      "FBM-8388608-0.910-125x8 1635.019sec. ../results/FBM-8388608-0.910-125x8_20161108-195316.gz\n",
      "FBM-8388608-0.915-125x8 1634.690sec. ../results/FBM-8388608-0.915-125x8_20161108-202113.gz\n",
      "FBM-8388608-0.920-125x8 1645.911sec. ../results/FBM-8388608-0.920-125x8_20161108-204921.gz\n",
      "FBM-8388608-0.925-125x8 1658.832sec. ../results/FBM-8388608-0.925-125x8_20161108-211742.gz\n",
      "FBM-8388608-0.930-125x8 1667.693sec. ../results/FBM-8388608-0.930-125x8_20161108-214610.gz\n",
      "FBM-8388608-0.935-125x8 1683.263sec. ../results/FBM-8388608-0.935-125x8_20161108-221451.gz\n",
      "FBM-8388608-0.940-125x8 1697.326sec. ../results/FBM-8388608-0.940-125x8_20161108-224346.gz\n",
      "FBM-8388608-0.945-125x8 1714.388sec. ../results/FBM-8388608-0.945-125x8_20161108-231258.gz\n",
      "FBM-8388608-0.950-125x8 1726.202sec. ../results/FBM-8388608-0.950-125x8_20161108-234226.gz\n",
      "FBM-8388608-0.990-125x8 2272.542sec. ../results/FBM-8388608-0.990-125x8_20161109-002058.gz\n"
     ]
    }
   ],
   "source": [
    "if not skip:\n",
    "    par_ = Parallel(n_jobs=-1, verbose=0)\n",
    "    for hurst_ in hurst_exponents:\n",
    "        name_ = \"FBM-%d-%0.3f-%dx%d\"%(n_samples, hurst_, n_per_batch, n_batches)\n",
    "        print name_,\n",
    "\n",
    "        # Schedule the experiments\n",
    "        seeds = random_state.randint(MAX_RAND_SEED, size=(n_batches,))\n",
    "        schedule_ = (delayed(experiment)(seed_, n_per_batch, methods,\n",
    "                                         FractionalBrownianMotion(N=n_samples,\n",
    "                                                                  hurst=hurst_,\n",
    "                                                                  random_state=seed_))\n",
    "                                    for seed_ in seeds)\n",
    "\n",
    "        # Run the experiment and collect the results\n",
    "        tick_ = time.time()\n",
    "        experiment_ids = list()\n",
    "        results_ = {method: list() for method in methods}\n",
    "        for id_, dict_ in par_(schedule_):\n",
    "            experiment_ids.append(id_)\n",
    "            for method in methods:\n",
    "                results_[method].extend(dict_[method])\n",
    "        results = {key_: collect_structural_statistics(list_)\n",
    "                   for key_, list_ in results_.iteritems()}\n",
    "        tock_ = time.time()\n",
    "\n",
    "        # Save the results and log\n",
    "        filename_ = save((tick_, tock_, experiment_ids, results), OUTPUT_PATH, name_)\n",
    "        print \"%0.3fsec.\"%(tock_ - tick_,), filename_"
   ]
  },
  {
   "cell_type": "markdown",
   "metadata": {
    "collapsed": true
   },
   "source": [
    "## Hermite process experiment"
   ]
  },
  {
   "cell_type": "code",
   "execution_count": 14,
   "metadata": {
    "collapsed": false
   },
   "outputs": [
    {
     "name": "stdout",
     "output_type": "stream",
     "text": [
      "Using seed CC90CA9A\n"
     ]
    }
   ],
   "source": [
    "from crossing_tree.processes import HermiteProcess\n",
    "\n",
    "seed = master_seeds.pop()\n",
    "print \"Using seed %X\"%(seed,)\n",
    "random_state = np.random.RandomState(seed)\n",
    "\n",
    "skip = False"
   ]
  },
  {
   "cell_type": "markdown",
   "metadata": {},
   "source": [
    "Setup: use no downsampling."
   ]
  },
  {
   "cell_type": "code",
   "execution_count": 15,
   "metadata": {
    "collapsed": true
   },
   "outputs": [],
   "source": [
    "n_samples, n_downsample = 1 << 23, 1\n",
    "degrees, methods = [2, 3, 4], [\"med\", \"std\", \"iqr\", \"mean\",]\n",
    "hurst_exponents = [       0.550, 0.600, 0.650, 0.700, 0.750, 0.800, 0.850, 0.900,\n",
    "                   0.910, 0.915, 0.920, 0.925, 0.930, 0.935, 0.940, 0.945, 0.950,\n",
    "                   0.990,]\n",
    "n_per_batch, n_batches = 125, 8"
   ]
  },
  {
   "cell_type": "markdown",
   "metadata": {},
   "source": [
    "Run the experiment for the Hermite process."
   ]
  },
  {
   "cell_type": "code",
   "execution_count": 16,
   "metadata": {
    "collapsed": false
   },
   "outputs": [
    {
     "name": "stdout",
     "output_type": "stream",
     "text": [
      "HRP2_1-8388608-0.550-125x8 1313.578sec. ../results/HRP2_1-8388608-0.550-125x8_20161109-004331.gz\n",
      "HRP2_1-8388608-0.600-125x8 1335.730sec. ../results/HRP2_1-8388608-0.600-125x8_20161109-010637.gz\n",
      "HRP2_1-8388608-0.650-125x8 1373.954sec. ../results/HRP2_1-8388608-0.650-125x8_20161109-013022.gz\n",
      "HRP2_1-8388608-0.700-125x8 1412.096sec. ../results/HRP2_1-8388608-0.700-125x8_20161109-015439.gz\n",
      "HRP2_1-8388608-0.750-125x8 1457.555sec. ../results/HRP2_1-8388608-0.750-125x8_20161109-021942.gz\n",
      "HRP2_1-8388608-0.800-125x8 1519.344sec. ../results/HRP2_1-8388608-0.800-125x8_20161109-024547.gz\n",
      "HRP2_1-8388608-0.850-125x8 1585.849sec. ../results/HRP2_1-8388608-0.850-125x8_20161109-031254.gz\n",
      "HRP2_1-8388608-0.900-125x8 1681.800sec. ../results/HRP2_1-8388608-0.900-125x8_20161109-034137.gz\n",
      "HRP2_1-8388608-0.910-125x8 1697.750sec. ../results/HRP2_1-8388608-0.910-125x8_20161109-041035.gz\n",
      "HRP2_1-8388608-0.915-125x8 1705.061sec. ../results/HRP2_1-8388608-0.915-125x8_20161109-043942.gz\n",
      "HRP2_1-8388608-0.920-125x8 1718.075sec. ../results/HRP2_1-8388608-0.920-125x8_20161109-050900.gz\n",
      "HRP2_1-8388608-0.925-125x8 1729.296sec. ../results/HRP2_1-8388608-0.925-125x8_20161109-053826.gz\n",
      "HRP2_1-8388608-0.930-125x8 1743.978sec. ../results/HRP2_1-8388608-0.930-125x8_20161109-060809.gz\n",
      "HRP2_1-8388608-0.935-125x8 1758.062sec. ../results/HRP2_1-8388608-0.935-125x8_20161109-063805.gz\n",
      "HRP2_1-8388608-0.940-125x8 1777.296sec. ../results/HRP2_1-8388608-0.940-125x8_20161109-070819.gz\n",
      "HRP2_1-8388608-0.945-125x8 1794.985sec. ../results/HRP2_1-8388608-0.945-125x8_20161109-073852.gz\n",
      "HRP2_1-8388608-0.950-125x8 1814.537sec. ../results/HRP2_1-8388608-0.950-125x8_20161109-080945.gz\n",
      "HRP2_1-8388608-0.990-125x8 2981.882sec. ../results/HRP2_1-8388608-0.990-125x8_20161109-090005.gz\n",
      "HRP3_1-8388608-0.550-125x8 1268.157sec. ../results/HRP3_1-8388608-0.550-125x8_20161109-092151.gz\n",
      "HRP3_1-8388608-0.600-125x8 1291.862sec. ../results/HRP3_1-8388608-0.600-125x8_20161109-094411.gz\n",
      "HRP3_1-8388608-0.650-125x8 1323.764sec. ../results/HRP3_1-8388608-0.650-125x8_20161109-100705.gz\n",
      "HRP3_1-8388608-0.700-125x8 1363.573sec. ../results/HRP3_1-8388608-0.700-125x8_20161109-103038.gz\n",
      "HRP3_1-8388608-0.750-125x8 1409.588sec. ../results/HRP3_1-8388608-0.750-125x8_20161109-105452.gz\n",
      "HRP3_1-8388608-0.800-125x8 1466.354sec. ../results/HRP3_1-8388608-0.800-125x8_20161109-112004.gz\n",
      "HRP3_1-8388608-0.850-125x8 1536.353sec. ../results/HRP3_1-8388608-0.850-125x8_20161109-114620.gz\n",
      "HRP3_1-8388608-0.900-125x8 1634.421sec. ../results/HRP3_1-8388608-0.900-125x8_20161109-121413.gz\n",
      "HRP3_1-8388608-0.910-125x8 1663.819sec. ../results/HRP3_1-8388608-0.910-125x8_20161109-124237.gz\n",
      "HRP3_1-8388608-0.915-125x8 1701.041sec. ../results/HRP3_1-8388608-0.915-125x8_20161109-131137.gz\n",
      "HRP3_1-8388608-0.920-125x8 1731.294sec. ../results/HRP3_1-8388608-0.920-125x8_20161109-134107.gz\n",
      "HRP3_1-8388608-0.925-125x8 1745.824sec. ../results/HRP3_1-8388608-0.925-125x8_20161109-141052.gz\n",
      "HRP3_1-8388608-0.930-125x8 1753.505sec. ../results/HRP3_1-8388608-0.930-125x8_20161109-144042.gz\n",
      "HRP3_1-8388608-0.935-125x8 1778.977sec. ../results/HRP3_1-8388608-0.935-125x8_20161109-151059.gz\n",
      "HRP3_1-8388608-0.940-125x8 1786.511sec. ../results/HRP3_1-8388608-0.940-125x8_20161109-154127.gz\n",
      "HRP3_1-8388608-0.945-125x8 1786.920sec. ../results/HRP3_1-8388608-0.945-125x8_20161109-161152.gz\n",
      "HRP3_1-8388608-0.950-125x8 1798.446sec. ../results/HRP3_1-8388608-0.950-125x8_20161109-164228.gz\n",
      "HRP3_1-8388608-0.990-125x8 2753.285sec. ../results/HRP3_1-8388608-0.990-125x8_20161109-172901.gz\n",
      "HRP4_1-8388608-0.550-125x8 1313.006sec. ../results/HRP4_1-8388608-0.550-125x8_20161109-175133.gz\n",
      "HRP4_1-8388608-0.600-125x8 1342.353sec. ../results/HRP4_1-8388608-0.600-125x8_20161109-181446.gz\n",
      "HRP4_1-8388608-0.650-125x8 1375.779sec. ../results/HRP4_1-8388608-0.650-125x8_20161109-183835.gz\n",
      "HRP4_1-8388608-0.700-125x8 1417.405sec. ../results/HRP4_1-8388608-0.700-125x8_20161109-190300.gz\n",
      "HRP4_1-8388608-0.750-125x8 1471.192sec. ../results/HRP4_1-8388608-0.750-125x8_20161109-192813.gz\n",
      "HRP4_1-8388608-0.800-125x8 1529.610sec. ../results/HRP4_1-8388608-0.800-125x8_20161109-195425.gz\n",
      "HRP4_1-8388608-0.850-125x8 1609.494sec. ../results/HRP4_1-8388608-0.850-125x8_20161109-202153.gz\n",
      "HRP4_1-8388608-0.900-125x8 1697.865sec. ../results/HRP4_1-8388608-0.900-125x8_20161109-205053.gz\n",
      "HRP4_1-8388608-0.910-125x8 1707.985sec. ../results/HRP4_1-8388608-0.910-125x8_20161109-212000.gz\n",
      "HRP4_1-8388608-0.915-125x8 1725.050sec. ../results/HRP4_1-8388608-0.915-125x8_20161109-214924.gz\n",
      "HRP4_1-8388608-0.920-125x8 1737.762sec. ../results/HRP4_1-8388608-0.920-125x8_20161109-221901.gz\n",
      "HRP4_1-8388608-0.925-125x8 1751.786sec. ../results/HRP4_1-8388608-0.925-125x8_20161109-224851.gz\n",
      "HRP4_1-8388608-0.930-125x8 1761.887sec. ../results/HRP4_1-8388608-0.930-125x8_20161109-231853.gz\n",
      "HRP4_1-8388608-0.935-125x8 1780.897sec. ../results/HRP4_1-8388608-0.935-125x8_20161109-234912.gz\n",
      "HRP4_1-8388608-0.940-125x8 1798.063sec. ../results/HRP4_1-8388608-0.940-125x8_20161110-001948.gz\n",
      "HRP4_1-8388608-0.945-125x8 1811.657sec. ../results/HRP4_1-8388608-0.945-125x8_20161110-005038.gz\n",
      "HRP4_1-8388608-0.950-125x8 1831.093sec. ../results/HRP4_1-8388608-0.950-125x8_20161110-012148.gz\n",
      "HRP4_1-8388608-0.990-125x8 2651.580sec. ../results/HRP4_1-8388608-0.990-125x8_20161110-020638.gz\n"
     ]
    }
   ],
   "source": [
    "if not skip:\n",
    "    par_ = Parallel(n_jobs=-1, verbose=0)\n",
    "    for degree_ in degrees:\n",
    "        for hurst_ in hurst_exponents:\n",
    "            name_ = \"HRP%d_%d-%d-%0.3f-%dx%d\"%(degree_, n_downsample, n_samples, hurst_, n_per_batch, n_batches)\n",
    "            print name_,\n",
    "\n",
    "            # Schedule the experiments\n",
    "            seeds = random_state.randint(MAX_RAND_SEED, size=(n_batches,))\n",
    "            schedule_ = (delayed(experiment)(seed_, n_per_batch, methods,\n",
    "                                             HermiteProcess(N=n_samples,\n",
    "                                                            degree=degree_,\n",
    "                                                            n_downsample=n_downsample,\n",
    "                                                            hurst=hurst_,\n",
    "                                                            random_state=seed_))\n",
    "                                        for seed_ in seeds)\n",
    "\n",
    "            # Run the experiment and collect the results\n",
    "            tick_ = time.time()\n",
    "            experiment_ids = list()\n",
    "            results_ = {method: list() for method in methods}\n",
    "            for id_, dict_ in par_(schedule_):\n",
    "                experiment_ids.append(id_)\n",
    "                for method in methods:\n",
    "                    results_[method].extend(dict_[method])\n",
    "            results = {key_: collect_structural_statistics(list_)\n",
    "                       for key_, list_ in results_.iteritems()}\n",
    "            tock_ = time.time()\n",
    "\n",
    "            # Save the results and log\n",
    "            filename_ = save((tick_, tock_, experiment_ids, results), OUTPUT_PATH, name_)\n",
    "            print \"%0.3fsec.\"%(tock_ - tick_,), filename_"
   ]
  },
  {
   "cell_type": "markdown",
   "metadata": {},
   "source": [
    "## Weierstrass experiment -- $\\lambda_0 = 1.2$"
   ]
  },
  {
   "cell_type": "code",
   "execution_count": 17,
   "metadata": {
    "collapsed": false
   },
   "outputs": [
    {
     "name": "stdout",
     "output_type": "stream",
     "text": [
      "Using seed E0AD0A26\n"
     ]
    }
   ],
   "source": [
    "from crossing_tree.processes import WeierstrassFunction\n",
    "\n",
    "seed = master_seeds.pop()\n",
    "print \"Using seed %X\"%(seed,)\n",
    "random_state = np.random.RandomState(seed)\n",
    "\n",
    "skip = False"
   ]
  },
  {
   "cell_type": "markdown",
   "metadata": {},
   "source": [
    "Setup"
   ]
  },
  {
   "cell_type": "code",
   "execution_count": 18,
   "metadata": {
    "collapsed": true
   },
   "outputs": [],
   "source": [
    "n_samples, lambda_0 = 1 << 23, 1.2\n",
    "methods = [\"med\", \"std\", \"iqr\", \"mean\",]\n",
    "holder_exponents = [0.500, 0.550, 0.600, 0.650, 0.700, 0.750, 0.800, 0.850, 0.900,\n",
    "                    0.910, 0.915, 0.920, 0.925, 0.930, 0.935, 0.940, 0.945, 0.950,\n",
    "                    0.990,]\n",
    "n_per_batch, n_batches = 125, 8"
   ]
  },
  {
   "cell_type": "markdown",
   "metadata": {},
   "source": [
    "Run the experimnet for the random Weierstrass function $[0, 1]\\mapsto \\mathbb{R}$:\n",
    "$$ W_H(t) = \\sum_{k\\geq 0} \\lambda_0^{-k H} \\bigl(\\cos(2 \\pi \\lambda_0^k t + \\phi_k) - \\cos \\phi_k\\bigr)\\,, $$\n",
    "with $(\\phi_k)_{k\\geq0} \\sim \\mathbb{U}[0, 2\\pi]$, and $\\lambda_0 > 1$ -- the fundamental harmonic."
   ]
  },
  {
   "cell_type": "code",
   "execution_count": 19,
   "metadata": {
    "collapsed": false
   },
   "outputs": [
    {
     "name": "stdout",
     "output_type": "stream",
     "text": [
      "WEI_1.2-8388608-0.500-125x8 13288.305sec. ../results/WEI_1.2-8388608-0.500-125x8_20161110-054850.gz\n",
      "WEI_1.2-8388608-0.550-125x8 13345.497sec. ../results/WEI_1.2-8388608-0.550-125x8_20161110-093202.gz\n",
      "WEI_1.2-8388608-0.600-125x8 13390.412sec. ../results/WEI_1.2-8388608-0.600-125x8_20161110-131601.gz\n",
      "WEI_1.2-8388608-0.650-125x8 13429.911sec. ../results/WEI_1.2-8388608-0.650-125x8_20161110-170034.gz\n",
      "WEI_1.2-8388608-0.700-125x8 13551.845sec. ../results/WEI_1.2-8388608-0.700-125x8_20161110-204707.gz\n",
      "WEI_1.2-8388608-0.750-125x8 13604.540sec. ../results/WEI_1.2-8388608-0.750-125x8_20161111-003431.gz\n",
      "WEI_1.2-8388608-0.800-125x8 13661.736sec. ../results/WEI_1.2-8388608-0.800-125x8_20161111-042252.gz\n",
      "WEI_1.2-8388608-0.850-125x8 13766.987sec. ../results/WEI_1.2-8388608-0.850-125x8_20161111-081257.gz\n",
      "WEI_1.2-8388608-0.900-125x8 13917.185sec. ../results/WEI_1.2-8388608-0.900-125x8_20161111-120532.gz\n",
      "WEI_1.2-8388608-0.910-125x8 13925.786sec. ../results/WEI_1.2-8388608-0.910-125x8_20161111-155816.gz\n",
      "WEI_1.2-8388608-0.915-125x8 13833.949sec. ../results/WEI_1.2-8388608-0.915-125x8_20161111-194928.gz\n",
      "WEI_1.2-8388608-0.920-125x8 13777.711sec. ../results/WEI_1.2-8388608-0.920-125x8_20161111-233944.gz\n",
      "WEI_1.2-8388608-0.925-125x8 13778.000sec. ../results/WEI_1.2-8388608-0.925-125x8_20161112-032958.gz\n",
      "WEI_1.2-8388608-0.930-125x8 13784.810sec. ../results/WEI_1.2-8388608-0.930-125x8_20161112-072020.gz\n",
      "WEI_1.2-8388608-0.935-125x8 13807.603sec. ../results/WEI_1.2-8388608-0.935-125x8_20161112-111107.gz\n",
      "WEI_1.2-8388608-0.940-125x8 13819.266sec. ../results/WEI_1.2-8388608-0.940-125x8_20161112-150202.gz\n",
      "WEI_1.2-8388608-0.945-125x8 13829.962sec. ../results/WEI_1.2-8388608-0.945-125x8_20161112-185307.gz\n",
      "WEI_1.2-8388608-0.950-125x8 13843.953sec. ../results/WEI_1.2-8388608-0.950-125x8_20161112-224428.gz\n",
      "WEI_1.2-8388608-0.990-125x8 14000.682sec. ../results/WEI_1.2-8388608-0.990-125x8_20161113-023826.gz\n"
     ]
    }
   ],
   "source": [
    "if not skip:\n",
    "    par_ = Parallel(n_jobs=-1, verbose=0)\n",
    "    for holder_ in holder_exponents:\n",
    "        name_ = \"WEI_%g-%d-%0.3f-%dx%d\"%(lambda_0, n_samples, holder_, n_per_batch, n_batches)\n",
    "        print name_,\n",
    "\n",
    "        # Schedule the experiments\n",
    "        seeds = random_state.randint(MAX_RAND_SEED, size=(n_batches,))\n",
    "        schedule_ = (delayed(experiment)(seed_, n_per_batch, methods,\n",
    "                                         WeierstrassFunction(N=n_samples,\n",
    "                                                             lambda_0=lambda_0,\n",
    "                                                             holder=holder_,\n",
    "                                                             random_state=seed_,\n",
    "                                                             one_sided=False))\n",
    "                                    for seed_ in seeds)\n",
    "\n",
    "        # Run the experiment and collect the results\n",
    "        tick_ = time.time()\n",
    "        experiment_ids = list()\n",
    "        results_ = {method: list() for method in methods}\n",
    "        for id_, dict_ in par_(schedule_):\n",
    "            experiment_ids.append(id_)\n",
    "            for method in methods:\n",
    "                results_[method].extend(dict_[method])\n",
    "        results = {key_: collect_structural_statistics(list_)\n",
    "                   for key_, list_ in results_.iteritems()}\n",
    "        tock_ = time.time()\n",
    "\n",
    "        # Save the results and log\n",
    "        filename_ = save((tick_, tock_, experiment_ids, results), OUTPUT_PATH, name_)\n",
    "        print \"%0.3fsec.\"%(tock_ - tick_,), filename_"
   ]
  },
  {
   "cell_type": "markdown",
   "metadata": {},
   "source": [
    "## Additional experiments"
   ]
  },
  {
   "cell_type": "markdown",
   "metadata": {
    "collapsed": true
   },
   "source": [
    "### Hermite process experiment: with downsampling"
   ]
  },
  {
   "cell_type": "code",
   "execution_count": 20,
   "metadata": {
    "collapsed": false
   },
   "outputs": [
    {
     "name": "stdout",
     "output_type": "stream",
     "text": [
      "Using seed E32EA61D\n"
     ]
    }
   ],
   "source": [
    "from crossing_tree.processes import HermiteProcess\n",
    "\n",
    "seed = master_seeds.pop()\n",
    "print \"Using seed %X\"%(seed,)\n",
    "random_state = np.random.RandomState(seed)\n",
    "\n",
    "skip = False"
   ]
  },
  {
   "cell_type": "markdown",
   "metadata": {},
   "source": [
    "Setup"
   ]
  },
  {
   "cell_type": "code",
   "execution_count": 21,
   "metadata": {
    "collapsed": true
   },
   "outputs": [],
   "source": [
    "n_samples, n_downsample = 1 << 19, 1 << 4\n",
    "degrees, methods = [2, 3, 4], [\"med\", \"std\", \"iqr\", \"mean\",]\n",
    "hurst_exponents = [       0.550, 0.600, 0.650, 0.700, 0.750, 0.800, 0.850, 0.900,\n",
    "                   0.910, 0.915, 0.920, 0.925, 0.930, 0.935, 0.940, 0.945, 0.950,\n",
    "                   0.990,]\n",
    "n_per_batch, n_batches = 125, 8"
   ]
  },
  {
   "cell_type": "markdown",
   "metadata": {},
   "source": [
    "Run the experiment for the Hermite process."
   ]
  },
  {
   "cell_type": "code",
   "execution_count": 22,
   "metadata": {
    "collapsed": false
   },
   "outputs": [
    {
     "name": "stdout",
     "output_type": "stream",
     "text": [
      "HRP2_16-524288-0.550-125x8 408.249sec. ../results/HRP2_16-524288-0.550-125x8_20161113-024553.gz\n",
      "HRP2_16-524288-0.600-125x8 417.433sec. ../results/HRP2_16-524288-0.600-125x8_20161113-025327.gz\n",
      "HRP2_16-524288-0.650-125x8 419.657sec. ../results/HRP2_16-524288-0.650-125x8_20161113-030100.gz\n",
      "HRP2_16-524288-0.700-125x8 415.866sec. ../results/HRP2_16-524288-0.700-125x8_20161113-030827.gz\n",
      "HRP2_16-524288-0.750-125x8 418.563sec. ../results/HRP2_16-524288-0.750-125x8_20161113-031559.gz\n",
      "HRP2_16-524288-0.800-125x8 426.054sec. ../results/HRP2_16-524288-0.800-125x8_20161113-032334.gz\n",
      "HRP2_16-524288-0.850-125x8 430.168sec. ../results/HRP2_16-524288-0.850-125x8_20161113-033113.gz\n",
      "HRP2_16-524288-0.900-125x8 431.081sec. ../results/HRP2_16-524288-0.900-125x8_20161113-033851.gz\n",
      "HRP2_16-524288-0.910-125x8 434.201sec. ../results/HRP2_16-524288-0.910-125x8_20161113-034633.gz\n",
      "HRP2_16-524288-0.915-125x8 437.488sec. ../results/HRP2_16-524288-0.915-125x8_20161113-035418.gz\n",
      "HRP2_16-524288-0.920-125x8 443.848sec. ../results/HRP2_16-524288-0.920-125x8_20161113-040207.gz\n",
      "HRP2_16-524288-0.925-125x8 434.932sec. ../results/HRP2_16-524288-0.925-125x8_20161113-040949.gz\n",
      "HRP2_16-524288-0.930-125x8 436.632sec. ../results/HRP2_16-524288-0.930-125x8_20161113-041731.gz\n",
      "HRP2_16-524288-0.935-125x8 437.331sec. ../results/HRP2_16-524288-0.935-125x8_20161113-042514.gz\n",
      "HRP2_16-524288-0.940-125x8 441.858sec. ../results/HRP2_16-524288-0.940-125x8_20161113-043302.gz\n",
      "HRP2_16-524288-0.945-125x8 441.805sec. ../results/HRP2_16-524288-0.945-125x8_20161113-044051.gz\n",
      "HRP2_16-524288-0.950-125x8 444.093sec. ../results/HRP2_16-524288-0.950-125x8_20161113-044842.gz\n",
      "HRP2_16-524288-0.990-125x8 488.234sec. ../results/HRP2_16-524288-0.990-125x8_20161113-045717.gz\n",
      "HRP3_16-524288-0.550-125x8 455.658sec. ../results/HRP3_16-524288-0.550-125x8_20161113-050519.gz\n",
      "HRP3_16-524288-0.600-125x8 460.889sec. ../results/HRP3_16-524288-0.600-125x8_20161113-051335.gz\n",
      "HRP3_16-524288-0.650-125x8 458.261sec. ../results/HRP3_16-524288-0.650-125x8_20161113-052146.gz\n",
      "HRP3_16-524288-0.700-125x8 459.884sec. ../results/HRP3_16-524288-0.700-125x8_20161113-052959.gz\n",
      "HRP3_16-524288-0.750-125x8 464.974sec. ../results/HRP3_16-524288-0.750-125x8_20161113-053818.gz\n",
      "HRP3_16-524288-0.800-125x8 468.294sec. ../results/HRP3_16-524288-0.800-125x8_20161113-054637.gz\n",
      "HRP3_16-524288-0.850-125x8 471.936sec. ../results/HRP3_16-524288-0.850-125x8_20161113-055457.gz\n",
      "HRP3_16-524288-0.900-125x8 479.142sec. ../results/HRP3_16-524288-0.900-125x8_20161113-060323.gz\n",
      "HRP3_16-524288-0.910-125x8 481.161sec. ../results/HRP3_16-524288-0.910-125x8_20161113-061152.gz\n",
      "HRP3_16-524288-0.915-125x8 481.866sec. ../results/HRP3_16-524288-0.915-125x8_20161113-062019.gz\n",
      "HRP3_16-524288-0.920-125x8 483.183sec. ../results/HRP3_16-524288-0.920-125x8_20161113-062851.gz\n",
      "HRP3_16-524288-0.925-125x8 479.245sec. ../results/HRP3_16-524288-0.925-125x8_20161113-063717.gz\n",
      "HRP3_16-524288-0.930-125x8 483.988sec. ../results/HRP3_16-524288-0.930-125x8_20161113-064548.gz\n",
      "HRP3_16-524288-0.935-125x8 485.709sec. ../results/HRP3_16-524288-0.935-125x8_20161113-065421.gz\n",
      "HRP3_16-524288-0.940-125x8 482.878sec. ../results/HRP3_16-524288-0.940-125x8_20161113-070249.gz\n",
      "HRP3_16-524288-0.945-125x8 486.342sec. ../results/HRP3_16-524288-0.945-125x8_20161113-071123.gz\n",
      "HRP3_16-524288-0.950-125x8 488.548sec. ../results/HRP3_16-524288-0.950-125x8_20161113-071957.gz\n",
      "HRP3_16-524288-0.990-125x8 533.592sec. ../results/HRP3_16-524288-0.990-125x8_20161113-072917.gz\n",
      "HRP4_16-524288-0.550-125x8 502.737sec. ../results/HRP4_16-524288-0.550-125x8_20161113-073806.gz\n",
      "HRP4_16-524288-0.600-125x8 508.714sec. ../results/HRP4_16-524288-0.600-125x8_20161113-074707.gz\n",
      "HRP4_16-524288-0.650-125x8 509.853sec. ../results/HRP4_16-524288-0.650-125x8_20161113-075614.gz\n",
      "HRP4_16-524288-0.700-125x8 509.548sec. ../results/HRP4_16-524288-0.700-125x8_20161113-080515.gz\n",
      "HRP4_16-524288-0.750-125x8 513.141sec. ../results/HRP4_16-524288-0.750-125x8_20161113-081420.gz\n",
      "HRP4_16-524288-0.800-125x8 515.822sec. ../results/HRP4_16-524288-0.800-125x8_20161113-082324.gz\n",
      "HRP4_16-524288-0.850-125x8 522.850sec. ../results/HRP4_16-524288-0.850-125x8_20161113-083235.gz\n",
      "HRP4_16-524288-0.900-125x8 528.553sec. ../results/HRP4_16-524288-0.900-125x8_20161113-084151.gz\n",
      "HRP4_16-524288-0.910-125x8 524.890sec. ../results/HRP4_16-524288-0.910-125x8_20161113-085101.gz\n",
      "HRP4_16-524288-0.915-125x8 530.642sec. ../results/HRP4_16-524288-0.915-125x8_20161113-090019.gz\n",
      "HRP4_16-524288-0.920-125x8 531.237sec. ../results/HRP4_16-524288-0.920-125x8_20161113-090938.gz\n",
      "HRP4_16-524288-0.925-125x8 529.015sec. ../results/HRP4_16-524288-0.925-125x8_20161113-091854.gz\n",
      "HRP4_16-524288-0.930-125x8 528.211sec. ../results/HRP4_16-524288-0.930-125x8_20161113-092810.gz\n",
      "HRP4_16-524288-0.935-125x8 532.982sec. ../results/HRP4_16-524288-0.935-125x8_20161113-093729.gz\n",
      "HRP4_16-524288-0.940-125x8 533.696sec. ../results/HRP4_16-524288-0.940-125x8_20161113-094650.gz\n",
      "HRP4_16-524288-0.945-125x8 531.881sec. ../results/HRP4_16-524288-0.945-125x8_20161113-095609.gz\n",
      "HRP4_16-524288-0.950-125x8 539.908sec. ../results/HRP4_16-524288-0.950-125x8_20161113-100535.gz\n",
      "HRP4_16-524288-0.990-125x8 593.903sec. ../results/HRP4_16-524288-0.990-125x8_20161113-101556.gz\n"
     ]
    }
   ],
   "source": [
    "if not skip:\n",
    "    par_ = Parallel(n_jobs=-1, verbose=0)\n",
    "    for degree_ in degrees:\n",
    "        for hurst_ in hurst_exponents:\n",
    "            name_ = \"HRP%d_%d-%d-%0.3f-%dx%d\"%(degree_, n_downsample, n_samples, hurst_, n_per_batch, n_batches)\n",
    "            print name_,\n",
    "\n",
    "            # Schedule the experiments\n",
    "            seeds = random_state.randint(MAX_RAND_SEED, size=(n_batches,))\n",
    "            schedule_ = (delayed(experiment)(seed_, n_per_batch, methods,\n",
    "                                             HermiteProcess(N=n_samples,\n",
    "                                                            degree=degree_,\n",
    "                                                            n_downsample=n_downsample,\n",
    "                                                            hurst=hurst_,\n",
    "                                                            random_state=seed_))\n",
    "                                        for seed_ in seeds)\n",
    "\n",
    "            # Run the experiment and collect the results\n",
    "            tick_ = time.time()\n",
    "            experiment_ids = list()\n",
    "            results_ = {method: list() for method in methods}\n",
    "            for id_, dict_ in par_(schedule_):\n",
    "                experiment_ids.append(id_)\n",
    "                for method in methods:\n",
    "                    results_[method].extend(dict_[method])\n",
    "            results = {key_: collect_structural_statistics(list_)\n",
    "                       for key_, list_ in results_.iteritems()}\n",
    "            tock_ = time.time()\n",
    "\n",
    "            # Save the results and log\n",
    "            filename_ = save((tick_, tock_, experiment_ids, results), OUTPUT_PATH, name_)\n",
    "            print \"%0.3fsec.\"%(tock_ - tick_,), filename_"
   ]
  },
  {
   "cell_type": "markdown",
   "metadata": {},
   "source": [
    "### Weierstrass experiment -- $\\lambda_0 = 3$"
   ]
  },
  {
   "cell_type": "code",
   "execution_count": 23,
   "metadata": {
    "collapsed": false
   },
   "outputs": [
    {
     "name": "stdout",
     "output_type": "stream",
     "text": [
      "Using seed 16C53C83\n"
     ]
    }
   ],
   "source": [
    "from crossing_tree.processes import WeierstrassFunction\n",
    "\n",
    "seed = master_seeds.pop()\n",
    "print \"Using seed %X\"%(seed,)\n",
    "random_state = np.random.RandomState(seed)\n",
    "\n",
    "skip = True"
   ]
  },
  {
   "cell_type": "markdown",
   "metadata": {},
   "source": [
    "Setup"
   ]
  },
  {
   "cell_type": "code",
   "execution_count": 24,
   "metadata": {
    "collapsed": true
   },
   "outputs": [],
   "source": [
    "n_samples, lambda_0 = 1 << 23, 3.0\n",
    "methods = [\"med\", \"std\", \"iqr\", \"mean\",]\n",
    "holder_exponents = [0.500, 0.550, 0.600, 0.650, 0.700, 0.750, 0.800, 0.850, 0.900,\n",
    "                    0.910, 0.915, 0.920, 0.925, 0.930, 0.935, 0.940, 0.945, 0.950,\n",
    "                    0.990,]\n",
    "n_per_batch, n_batches = 125, 8"
   ]
  },
  {
   "cell_type": "markdown",
   "metadata": {},
   "source": [
    "Run the experimnet for the random Weierstrass function $[0, 1]\\mapsto \\mathbb{R}$:\n",
    "$$ W_H(t) = \\sum_{k\\geq 0} \\lambda_0^{-k H} \\bigl(\\cos(2 \\pi \\lambda_0^k t + \\phi_k) - \\cos \\phi_k\\bigr)\\,, $$\n",
    "with $(\\phi_k)_{k\\geq0} \\sim \\mathbb{U}[0, 2\\pi]$, and $\\lambda_0 > 1$ -- the fundamental harmonic."
   ]
  },
  {
   "cell_type": "code",
   "execution_count": 25,
   "metadata": {
    "collapsed": false
   },
   "outputs": [],
   "source": [
    "if not skip:\n",
    "    par_ = Parallel(n_jobs=-1, verbose=0)\n",
    "    for holder_ in holder_exponents:\n",
    "        name_ = \"WEI_%g-%d-%0.3f-%dx%d\"%(lambda_0, n_samples, holder_, n_per_batch, n_batches)\n",
    "        print name_,\n",
    "\n",
    "        # Schedule the experiments\n",
    "        seeds = random_state.randint(MAX_RAND_SEED, size=(n_batches,))\n",
    "        schedule_ = (delayed(experiment)(seed_, n_per_batch, methods,\n",
    "                                         WeierstrassFunction(N=n_samples,\n",
    "                                                             lambda_0=lambda_0,\n",
    "                                                             holder=holder_,\n",
    "                                                             random_state=seed_,\n",
    "                                                             one_sided=False))\n",
    "                                    for seed_ in seeds)\n",
    "\n",
    "        # Run the experiment and collect the results\n",
    "        tick_ = time.time()\n",
    "        experiment_ids = list()\n",
    "        results_ = {method: list() for method in methods}\n",
    "        for id_, dict_ in par_(schedule_):\n",
    "            experiment_ids.append(id_)\n",
    "            for method in methods:\n",
    "                results_[method].extend(dict_[method])\n",
    "        results = {key_: collect_structural_statistics(list_)\n",
    "                   for key_, list_ in results_.iteritems()}\n",
    "        tock_ = time.time()\n",
    "\n",
    "        # Save the results and log\n",
    "        filename_ = save((tick_, tock_, experiment_ids, results), OUTPUT_PATH, name_)\n",
    "        print \"%0.3fsec.\"%(tock_ - tick_,), filename_"
   ]
  },
  {
   "cell_type": "markdown",
   "metadata": {},
   "source": [
    "### Weierstrass experiment -- $\\lambda_0 = 1.7$"
   ]
  },
  {
   "cell_type": "code",
   "execution_count": 26,
   "metadata": {
    "collapsed": false
   },
   "outputs": [
    {
     "name": "stdout",
     "output_type": "stream",
     "text": [
      "Using seed AEF0422D\n"
     ]
    }
   ],
   "source": [
    "from crossing_tree.processes import WeierstrassFunction\n",
    "\n",
    "seed = master_seeds.pop()\n",
    "print \"Using seed %X\"%(seed,)\n",
    "random_state = np.random.RandomState(seed)\n",
    "\n",
    "skip = True"
   ]
  },
  {
   "cell_type": "markdown",
   "metadata": {},
   "source": [
    "Setup"
   ]
  },
  {
   "cell_type": "code",
   "execution_count": 27,
   "metadata": {
    "collapsed": true
   },
   "outputs": [],
   "source": [
    "n_samples, lambda_0 = 1 << 23, 1.7\n",
    "methods = [\"med\", \"std\", \"iqr\", \"mean\",]\n",
    "holder_exponents = [0.500, 0.550, 0.600, 0.650, 0.700, 0.750, 0.800, 0.850, 0.900,\n",
    "                    0.910, 0.915, 0.920, 0.925, 0.930, 0.935, 0.940, 0.945, 0.950,\n",
    "                    0.990,]\n",
    "n_per_batch, n_batches = 125, 8"
   ]
  },
  {
   "cell_type": "markdown",
   "metadata": {},
   "source": [
    "Run the experimnet for the random Weierstrass function $[0, 1]\\mapsto \\mathbb{R}$:\n",
    "$$ W_H(t) = \\sum_{k\\geq 0} \\lambda_0^{-k H} \\bigl(\\cos(2 \\pi \\lambda_0^k t + \\phi_k) - \\cos \\phi_k\\bigr)\\,, $$\n",
    "with $(\\phi_k)_{k\\geq0} \\sim \\mathbb{U}[0, 2\\pi]$, and $\\lambda_0 > 1$ -- the fundamental harmonic."
   ]
  },
  {
   "cell_type": "code",
   "execution_count": 28,
   "metadata": {
    "collapsed": false
   },
   "outputs": [],
   "source": [
    "if not skip:\n",
    "    par_ = Parallel(n_jobs=-1, verbose=0)\n",
    "    for holder_ in holder_exponents:\n",
    "        name_ = \"WEI_%g-%d-%0.3f-%dx%d\"%(lambda_0, n_samples, holder_, n_per_batch, n_batches)\n",
    "        print name_,\n",
    "\n",
    "        # Schedule the experiments\n",
    "        seeds = random_state.randint(MAX_RAND_SEED, size=(n_batches,))\n",
    "        schedule_ = (delayed(experiment)(seed_, n_per_batch, methods,\n",
    "                                         WeierstrassFunction(N=n_samples,\n",
    "                                                             lambda_0=lambda_0,\n",
    "                                                             holder=holder_,\n",
    "                                                             random_state=seed_,\n",
    "                                                             one_sided=False))\n",
    "                                    for seed_ in seeds)\n",
    "\n",
    "        # Run the experiment and collect the results\n",
    "        tick_ = time.time()\n",
    "        experiment_ids = list()\n",
    "        results_ = {method: list() for method in methods}\n",
    "        for id_, dict_ in par_(schedule_):\n",
    "            experiment_ids.append(id_)\n",
    "            for method in methods:\n",
    "                results_[method].extend(dict_[method])\n",
    "        results = {key_: collect_structural_statistics(list_)\n",
    "                   for key_, list_ in results_.iteritems()}\n",
    "        tock_ = time.time()\n",
    "\n",
    "        # Save the results and log\n",
    "        filename_ = save((tick_, tock_, experiment_ids, results), OUTPUT_PATH, name_)\n",
    "        print \"%0.3fsec.\"%(tock_ - tick_,), filename_"
   ]
  },
  {
   "cell_type": "markdown",
   "metadata": {},
   "source": [
    "### fBM experiment: super long"
   ]
  },
  {
   "cell_type": "code",
   "execution_count": 29,
   "metadata": {
    "collapsed": false
   },
   "outputs": [
    {
     "name": "stdout",
     "output_type": "stream",
     "text": [
      "Using seed 846D0C7A\n"
     ]
    }
   ],
   "source": [
    "from crossing_tree.processes import FractionalBrownianMotion\n",
    "\n",
    "seed = master_seeds.pop()\n",
    "print \"Using seed %X\"%(seed,)\n",
    "random_state = np.random.RandomState(seed)\n",
    "\n",
    "skip = True"
   ]
  },
  {
   "cell_type": "markdown",
   "metadata": {},
   "source": [
    "Setup"
   ]
  },
  {
   "cell_type": "code",
   "execution_count": 30,
   "metadata": {
    "collapsed": false
   },
   "outputs": [],
   "source": [
    "n_samples, methods = 1 << 25, [\"med\", \"std\", \"iqr\", \"mean\",]\n",
    "hurst_exponents = [0.500, 0.550, 0.600, 0.650, 0.700, 0.750, 0.800, 0.850, 0.900,\n",
    "                   0.910, 0.915, 0.920, 0.925, 0.930, 0.935, 0.940, 0.945, 0.950,\n",
    "                   0.990,]\n",
    "n_per_batch, n_batches, n_threads = 334, 3, 4"
   ]
  },
  {
   "cell_type": "markdown",
   "metadata": {},
   "source": [
    "Run the experiment for the Fractional Brownian Motion."
   ]
  },
  {
   "cell_type": "code",
   "execution_count": 31,
   "metadata": {
    "collapsed": false
   },
   "outputs": [
    {
     "name": "stdout",
     "output_type": "stream",
     "text": [
      "FBM-33554432-0.500-334x3 7922.633sec. ../results/FBM-33554432-0.500-334x3_20161108-184220.gz\n",
      "FBM-33554432-0.550-334x3 8994.173sec. ../results/FBM-33554432-0.550-334x3_20161108-211311.gz\n",
      "FBM-33554432-0.600-334x3 9671.584sec. ../results/FBM-33554432-0.600-334x3_20161108-235516.gz\n",
      "FBM-33554432-0.650-334x3 9985.724sec. ../results/FBM-33554432-0.650-334x3_20161109-024230.gz\n",
      "FBM-33554432-0.700-334x3 10591.847sec. ../results/FBM-33554432-0.700-334x3_20161109-053945.gz\n",
      "FBM-33554432-0.750-334x3 11290.630sec. ../results/FBM-33554432-0.750-334x3_20161109-084839.gz\n",
      "FBM-33554432-0.800-334x3 11924.460sec. ../results/FBM-33554432-0.800-334x3_20161109-120805.gz\n",
      "FBM-33554432-0.850-334x3 12146.259sec. ../results/FBM-33554432-0.850-334x3_20161109-153112.gz\n",
      "FBM-33554432-0.900-334x3 13212.555sec. ../results/FBM-33554432-0.900-334x3_20161109-191203.gz\n",
      "FBM-33554432-0.910-334x3 13205.301sec. ../results/FBM-33554432-0.910-334x3_20161109-225250.gz\n",
      "FBM-33554432-0.915-334x3 13467.640sec. ../results/FBM-33554432-0.915-334x3_20161110-023756.gz\n",
      "FBM-33554432-0.920-334x3 13369.743sec. ../results/FBM-33554432-0.920-334x3_20161110-062125.gz\n",
      "FBM-33554432-0.925-334x3 13347.232sec. ../results/FBM-33554432-0.925-334x3_20161110-100430.gz\n",
      "FBM-33554432-0.930-334x3 13490.713sec. ../results/FBM-33554432-0.930-334x3_20161110-135002.gz\n",
      "FBM-33554432-0.935-334x3 13567.554sec. ../results/FBM-33554432-0.935-334x3_20161110-173648.gz\n",
      "FBM-33554432-0.940-334x3 13844.194sec. ../results/FBM-33554432-0.940-334x3_20161110-212810.gz\n",
      "FBM-33554432-0.945-334x3 13908.407sec. ../results/FBM-33554432-0.945-334x3_20161111-012036.gz\n",
      "FBM-33554432-0.950-334x3 13572.029sec. ../results/FBM-33554432-0.950-334x3_20161111-050726.gz\n",
      "FBM-33554432-0.990-334x3 8535.372sec. ../results/FBM-33554432-0.990-334x3_20161111-173449.gz\n"
     ]
    }
   ],
   "source": [
    "if not skip:\n",
    "    par_ = Parallel(n_jobs=-1, verbose=0)\n",
    "    for hurst_ in hurst_exponents:\n",
    "        name_ = \"FBM-%d-%0.3f-%dx%d\"%(n_samples, hurst_, n_per_batch, n_batches)\n",
    "        print name_,\n",
    "\n",
    "        # Schedule the experiments\n",
    "        seeds = random_state.randint(MAX_RAND_SEED, size=(n_batches,))\n",
    "        schedule_ = (delayed(experiment)(seed_, n_per_batch, methods,\n",
    "                                         FractionalBrownianMotion(N=n_samples,\n",
    "                                                                  hurst=hurst_,\n",
    "                                                                  random_state=seed_,\n",
    "                                                                  n_threads=n_threads))\n",
    "                                    for seed_ in seeds)\n",
    "\n",
    "        # Run the experiment and collect the results\n",
    "        tick_ = time.time()\n",
    "        experiment_ids = list()\n",
    "        results_ = {method: list() for method in methods}\n",
    "        for id_, dict_ in par_(schedule_):\n",
    "            experiment_ids.append(id_)\n",
    "            for method in methods:\n",
    "                results_[method].extend(dict_[method])\n",
    "        results = {key_: collect_structural_statistics(list_)\n",
    "                   for key_, list_ in results_.iteritems()}\n",
    "        tock_ = time.time()\n",
    "\n",
    "        # Save the results and log\n",
    "        filename_ = save((tick_, tock_, experiment_ids, results), OUTPUT_PATH, name_)\n",
    "        print \"%0.3fsec.\"%(tock_ - tick_,), filename_"
   ]
  },
  {
   "cell_type": "code",
   "execution_count": null,
   "metadata": {
    "collapsed": true
   },
   "outputs": [],
   "source": []
  }
 ],
 "metadata": {
  "kernelspec": {
   "display_name": "Python 2",
   "language": "python",
   "name": "python2"
  },
  "language_info": {
   "codemirror_mode": {
    "name": "ipython",
    "version": 2
   },
   "file_extension": ".py",
   "mimetype": "text/x-python",
   "name": "python",
   "nbconvert_exporter": "python",
   "pygments_lexer": "ipython2",
   "version": "2.7.10"
  }
 },
 "nbformat": 4,
 "nbformat_minor": 0
}
