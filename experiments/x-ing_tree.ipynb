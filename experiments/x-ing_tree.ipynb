{
 "cells": [
  {
   "cell_type": "code",
   "execution_count": null,
   "metadata": {
    "collapsed": false
   },
   "outputs": [],
   "source": [
    "import numpy as np\n",
    "import pandas as pd\n",
    "\n",
    "%matplotlib inline\n",
    "import matplotlib.pyplot as plt\n",
    "\n",
    "from crossing_tree import fbm, crossings, crossing_tree\n",
    "from sklearn.preprocessing import StandardScaler"
   ]
  },
  {
   "cell_type": "code",
   "execution_count": null,
   "metadata": {
    "collapsed": true
   },
   "outputs": [],
   "source": [
    "random_state = np.random.RandomState(0x0BADC0D)"
   ]
  },
  {
   "cell_type": "code",
   "execution_count": null,
   "metadata": {
    "collapsed": false
   },
   "outputs": [],
   "source": [
    "gen_ = fbm(2**15+1, H=0.60, time=True)\n",
    "# gen_ = fbm(2**22+1, H=0.95, time=True)\n",
    "# gen_ = fbm(2**22+1, H=0.90, time=True)\n",
    "gen_.initialize(random_state)"
   ]
  },
  {
   "cell_type": "code",
   "execution_count": null,
   "metadata": {
    "collapsed": true
   },
   "outputs": [],
   "source": [
    "T, X = gen_()"
   ]
  },
  {
   "cell_type": "code",
   "execution_count": null,
   "metadata": {
    "collapsed": false,
    "scrolled": true
   },
   "outputs": [],
   "source": [
    "print np.std(np.diff(X))\n",
    "print np.mean(np.abs(np.diff(X)))\n",
    "print np.median(np.abs(np.diff(X)))\n",
    "print np.percentile(np.abs(np.diff(X)), 95)\n",
    "print 1.0 / np.sqrt(len(T) - 1)"
   ]
  },
  {
   "cell_type": "code",
   "execution_count": null,
   "metadata": {
    "collapsed": true
   },
   "outputs": [],
   "source": [
    "# scale_ = np.diff(X).std()\n",
    "# scale_ = np.median(np.abs(np.diff(X)))\n",
    "scale_ = np.mean(np.abs(np.diff(X))) * 1024 # * 16384"
   ]
  },
  {
   "cell_type": "code",
   "execution_count": null,
   "metadata": {
    "collapsed": false
   },
   "outputs": [],
   "source": [
    "# %%timeit -n 20\n",
    "xi, ti = crossings(X, T, scale_, 0)\n",
    "xi2, ti2 = crossings(X, T, scale_, 0.5)\n",
    "\n",
    "print xi.shape\n",
    "print ti.shape\n",
    "\n",
    "fig = plt.figure(figsize=(8, 6))\n",
    "ax = fig.add_subplot(111)\n",
    "ax.plot(T[:(1<<20)], X[:(1<<20)], \"y\", alpha=0.5)\n",
    "ax.plot(ti[:11], xi[:11], \"-k\")\n",
    "ax.plot(ti2[:11], xi2[:11], \"-r\")\n",
    "ax.set_title(\"Scale %g\"%(scale_,))\n",
    "# scale_ *= 2\n",
    "plt.show()"
   ]
  },
  {
   "cell_type": "code",
   "execution_count": null,
   "metadata": {
    "collapsed": true
   },
   "outputs": [],
   "source": [
    "from scipy.stats import ks_2samp"
   ]
  },
  {
   "cell_type": "code",
   "execution_count": null,
   "metadata": {
    "collapsed": false,
    "scrolled": true
   },
   "outputs": [],
   "source": [
    "# scale_ = np.median(np.abs(np.diff(X)))\n",
    "scale_ = np.diff(X).std()\n",
    "scale_ = 1.96 / np.sqrt( len(T)-1)\n",
    "# scale_ = np.median(np.abs(np.diff(X)))\n",
    "# scale_ = np.mean(np.abs(np.diff(X)))\n",
    "for k in range(10):\n",
    "    xi, ti = crossings(X, T, scale_, 0)\n",
    "    xi2, ti2 = crossings(X, T, scale_, 0.25)\n",
    "    scale_ *= 2\n",
    "\n",
    "    dti_s = np.diff(ti)\n",
    "    dti_s /= np.sqrt(np.mean(dti_s**2))\n",
    "    \n",
    "    dti2_s = np.diff(ti2)\n",
    "    dti2_s /= np.sqrt(np.mean(dti2_s**2))\n",
    "\n",
    "    fig = plt.figure(figsize=(12, 5))\n",
    "    ax = fig.add_subplot(121)\n",
    "    ax.hist(dti_s, bins=100, color=\"k\", lw=0);\n",
    "    ax = fig.add_subplot(122)\n",
    "    ax.hist(dti2_s, bins=100, color=\"r\", lw=0);\n",
    "    plt.show()\n",
    "    print ks_2samp(dti_s, dti2_s)"
   ]
  },
  {
   "cell_type": "markdown",
   "metadata": {},
   "source": [
    "Tree"
   ]
  },
  {
   "cell_type": "code",
   "execution_count": null,
   "metadata": {
    "collapsed": false
   },
   "outputs": [],
   "source": [
    "# scale_ = np.median(np.abs(np.diff(X)))\n",
    "scale = np.diff(X).std()/2\n",
    "# scale = 1.96 / np.sqrt( len(T)-1)\n",
    "# scale = np.median(np.abs(np.diff(X)))\n",
    "# scale = np.mean(np.abs(np.diff(X)))\n",
    "origin = 0.\n",
    "\n",
    "xi, ti, offspring, excursions, subcrossings, durations = crossing_tree(X, T, scale, origin)\n",
    "print len(offspring)"
   ]
  },
  {
   "cell_type": "code",
   "execution_count": null,
   "metadata": {
    "collapsed": false,
    "scrolled": false
   },
   "outputs": [],
   "source": [
    "def structure(offspring):\n",
    "    iter_ = iter(offspring)\n",
    "    try:\n",
    "        value_ = next(iter_)\n",
    "    except StopIteration:\n",
    "        raise TypeError('reduce() of empty sequence')\n",
    "    yield value_\n",
    "    for index in iter_:\n",
    "        value_ = value_[index]\n",
    "        yield value_\n",
    "\n",
    "list(structure(offspring))"
   ]
  },
  {
   "cell_type": "markdown",
   "metadata": {},
   "source": [
    "<hr/>"
   ]
  },
  {
   "cell_type": "code",
   "execution_count": null,
   "metadata": {
    "collapsed": true
   },
   "outputs": [],
   "source": [
    "%load_ext cython"
   ]
  },
  {
   "cell_type": "code",
   "execution_count": null,
   "metadata": {
    "collapsed": false
   },
   "outputs": [],
   "source": [
    "%%cython\n",
    "#-a\n",
    "import numpy as _np\n",
    "cimport numpy as np\n",
    "cimport cython\n",
    "\n",
    "from libc.math cimport isnan, fabs, floor, ceil, NAN\n",
    "\n",
    "np.import_array()\n",
    "\n",
    "ctypedef fused real:\n",
    "    cython.floating\n",
    "\n",
    "@cython.boundscheck(False)\n",
    "@cython.wraparound(False)\n",
    "@cython.cdivision(True)\n",
    "@cython.initializedcheck(False)\n",
    "@cython.nonecheck(False)\n",
    "def integer_xing(real[:] x, real[:] t, real scale, real origin):\n",
    "    cdef np.intp_t n_samples = x.shape[0]\n",
    "    cdef np.intp_t[::1] size = _np.empty(n_samples - 1, dtype=_np.int)\n",
    "    cdef real[::1] first = _np.empty(n_samples - 1, dtype=_np.float)\n",
    "    \n",
    "    cdef np.intp_t i\n",
    "    cdef real first_, last_, direction, prev_last = NAN\n",
    "    cdef np.intp_t total = 0, size_\n",
    "    with nogil:\n",
    "        # Detect integer-level crossings, ignoring re-crossings of the same level\n",
    "        for i in range(n_samples - 1):\n",
    "            direction, size_ = 0.0, 0\n",
    "            if x[i] < x[i+1]:\n",
    "                first_, last_ = ceil((x[i] - origin) / scale), floor((x[i+1] - origin) / scale)\n",
    "                direction = +1.0\n",
    "            elif x[i] > x[i+1]:\n",
    "                first_, last_ = floor((x[i] - origin) / scale), ceil((x[i+1] - origin) / scale)\n",
    "                direction = -1.0\n",
    "            if direction != 0.0:\n",
    "                size_ = <int>fabs(last_ + direction - first_)\n",
    "                if size_ > 0 and prev_last == first_:\n",
    "                    first_ += direction\n",
    "                    size_ -= 1\n",
    "                if size_ > 0:\n",
    "                    prev_last = last_\n",
    "            first[i], size[i] = first_, size_\n",
    "            total += size_\n",
    "\n",
    "    cdef real[::1] xi = _np.empty(total, dtype=_np.float)\n",
    "    cdef real[::1] ti = _np.empty(total, dtype=_np.float)\n",
    "\n",
    "    cdef np.int_t k, j = 0\n",
    "    cdef long double x_slope_, t_slope_, first_xi_, first_ti_\n",
    "    with nogil:\n",
    "        # Interpolate the crossing times and crossing levels\n",
    "        for i in range(n_samples-1):\n",
    "            size_ = size[i]\n",
    "            if size_ > 0:\n",
    "                x_slope_ = +scale if x[i+1] > x[i] else -scale\n",
    "                t_slope_ = (t[i+1] - t[i]) / (x[i+1] - x[i])\n",
    "                first_ = first[i] * scale + origin\n",
    "                for k in range(size_):\n",
    "                    xi[j] = first_ + x_slope_ * k\n",
    "                    ti[j] = t[i] + t_slope_ * (xi[j] - x[i])\n",
    "                    j += 1\n",
    "## Marginally slower\n",
    "#             size_ = size[i]\n",
    "#             if size_ > 0:\n",
    "#                 t_slope_ = (t[i+1] - t[i]) / (x[i+1] - x[i])\n",
    "#                 xi[j] = first[i] * scale\n",
    "#                 ti[j] = t[i] + t_slope_ * (xi[j] - x[i])\n",
    "#                 j += 1\n",
    "#             if size_ > 1:\n",
    "#                 x_slope_ = +scale if x[i+1] > x[i] else -scale\n",
    "#                 for k in range(size_ - 1):\n",
    "#                     xi[j] = xi[j-1] + x_slope_\n",
    "#                     ti[j] = ti[j-1] + t_slope_ * x_slope_\n",
    "#                     j += 1\n",
    "    return xi, ti"
   ]
  }
 ],
 "metadata": {
  "kernelspec": {
   "display_name": "Python 2",
   "language": "python",
   "name": "python2"
  },
  "language_info": {
   "codemirror_mode": {
    "name": "ipython",
    "version": 2
   },
   "file_extension": ".py",
   "mimetype": "text/x-python",
   "name": "python",
   "nbconvert_exporter": "python",
   "pygments_lexer": "ipython2",
   "version": "2.7.10"
  }
 },
 "nbformat": 4,
 "nbformat_minor": 0
}
