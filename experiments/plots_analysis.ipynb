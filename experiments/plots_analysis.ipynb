{
 "cells": [
  {
   "cell_type": "markdown",
   "metadata": {},
   "source": [
    "# Plots and analysis"
   ]
  },
  {
   "cell_type": "code",
   "execution_count": null,
   "metadata": {},
   "outputs": [],
   "source": [
    "import os\n",
    "import re\n",
    "import time\n",
    "import numpy as np\n",
    "import pandas as pd\n",
    "\n",
    "%matplotlib inline\n",
    "import matplotlib.pyplot as plt"
   ]
  },
  {
   "cell_type": "markdown",
   "metadata": {},
   "source": [
    "Compute the empirical probabilities by averaging across all replications"
   ]
  },
  {
   "cell_type": "code",
   "execution_count": null,
   "metadata": {},
   "outputs": [],
   "source": [
    "def offspring_empirical(Dmnk, levels, laplace=False):\n",
    "    # Get pooled frequencies\n",
    "    Djk = Dmnk[:, levels].sum(axis=1, keepdims=False, dtype=np.float)\n",
    "    Dj = Djk.sum(axis=1, keepdims=True)\n",
    "    # Compute the empirical probabilities\n",
    "    Pjk = Djk / Dj if not laplace else (Djk + 1.0) / (Dj + Djk.shape[1])\n",
    "    levels = np.arange(Dmnk.shape[1], dtype=np.int)[levels]\n",
    "    return levels + 1, np.nanmean(Pjk, axis=0), np.nanstd(Pjk, axis=0)"
   ]
  },
  {
   "cell_type": "markdown",
   "metadata": {},
   "source": [
    "Get theoretical values of the probability according to the conjectured distribution:\n",
    "$$ Z \\sim \\text{Geom}\\bigl(4^{\\frac{1}{2}-\\frac{1}{2h}}\\bigr) \\text{ over } \\{2n\\,:\\,n\\geq 1\\} \\,. $$\n",
    "\n",
    "For $\\theta = 2^{1-h^{-1}}$, the law, once again, is\n",
    "$$ \\mathbb{P}(Z=2k) = \\theta \\cdot (1-\\theta)^{k-1}\\,. $$"
   ]
  },
  {
   "cell_type": "code",
   "execution_count": null,
   "metadata": {},
   "outputs": [],
   "source": [
    "from math import log\n",
    "\n",
    "def offspring_prob(Z_max, hurst):\n",
    "    Z = np.arange(2, Z_max, 2)\n",
    "    theta = 2.0 ** (1.0 - 1.0 / hurst)\n",
    "    return Z, theta * np.exp((Z // 2 - 1) * log(1 - theta))"
   ]
  },
  {
   "cell_type": "markdown",
   "metadata": {},
   "source": [
    "Use the geometric distribution's mean value to estimate the hurst exponent:\n",
    "$$ \\mathbb{E} Z\n",
    "    = 2 \\theta \\sum_{k\\geq 1} k (1 - \\theta)^{k-1}\n",
    "    = 2 \\theta \\sum_{k\\geq 1} \\sum_{j\\geq k} (1 - \\theta)^{j-1}\n",
    "    = 2 \\theta \\sum_{k\\geq 1} \\theta^{-1} (1 - \\theta)^{k-1}\n",
    "    = 2 \\theta^{-1} \\,, $$\n",
    "whence\n",
    "$$ 2^{1-h^{-1}} = \\frac{2}{\\mathbb{E} Z} \\Leftrightarrow h = \\frac{\\log 2}{\\log \\mathbb{E}Z}\\,. $$"
   ]
  },
  {
   "cell_type": "code",
   "execution_count": null,
   "metadata": {},
   "outputs": [],
   "source": [
    "def offspring_hurst(Dmnk, levels, laplace=False):\n",
    "    # Get pooled frequencies\n",
    "    Dmj = Dmnk[:, levels].sum(axis=2, dtype=np.float)\n",
    "    # Compute the sum of the left-closed tails sums,\n",
    "    #  and divide by the total number of offspring.\n",
    "    Mmj = 2 * Dmnk[:, levels, ::-1].cumsum(axis=-1).sum(axis=-1) / Dmj\n",
    "    Hmj = np.log(2) / np.log(Mmj)\n",
    "    levels = np.arange(Dmnk.shape[1], dtype=np.int)[levels]\n",
    "    return levels + 1, np.nanmean(Hmj, axis=0), np.nanstd(Hmj, axis=0)"
   ]
  },
  {
   "cell_type": "markdown",
   "metadata": {},
   "source": [
    "## Experiments"
   ]
  },
  {
   "cell_type": "markdown",
   "metadata": {},
   "source": [
    "Create the output folder."
   ]
  },
  {
   "cell_type": "code",
   "execution_count": null,
   "metadata": {
    "scrolled": true
   },
   "outputs": [],
   "source": [
    "output_path = os.path.join(\"../plots\", time.strftime(\"%Y%m%d_%H%M%S\"))\n",
    "\n",
    "if not os.path.exists(output_path):\n",
    "    os.mkdir(output_path)\n",
    "\n",
    "print(output_path)"
   ]
  },
  {
   "cell_type": "markdown",
   "metadata": {},
   "source": [
    "Load the experiment manager"
   ]
  },
  {
   "cell_type": "code",
   "execution_count": null,
   "metadata": {},
   "outputs": [],
   "source": [
    "from crossing_tree.manager import ExperimentManager\n",
    "\n",
    "experiment = ExperimentManager(name_format=re.compile(\n",
    "        r\"^(?P<class>[^-]+)\"+\n",
    "        r\"-(?P<size>\\d+)\" +\n",
    "        r\"-(?P<hurst>(\\d*\\.)?\\d+)\" +\n",
    "        r\"-(?P<replications>\\d+x\\d+)\" + # r\"-(?P<n_batch>\\d+)x(?P<n_jobs>\\d+)\" +\n",
    "        r\"_(?:[\\d-]+)\" + # r\"_(?P<dttm>[\\d-]+)\" +\n",
    "        r\".gz$\", flags=re.I | re.U))\n",
    "\n",
    "experiment.update(\"../results/\")\n",
    "# experiment.update(\"../results/version_2/\")"
   ]
  },
  {
   "cell_type": "markdown",
   "metadata": {},
   "source": [
    "Print the keys of the experiment"
   ]
  },
  {
   "cell_type": "code",
   "execution_count": null,
   "metadata": {},
   "outputs": [],
   "source": [
    "print(experiment.keys_)"
   ]
  },
  {
   "cell_type": "markdown",
   "metadata": {},
   "source": [
    "Choose a particular instance"
   ]
  },
  {
   "cell_type": "code",
   "execution_count": null,
   "metadata": {},
   "outputs": [],
   "source": [
    "method = \"med\"  # needs bytes encoding\n",
    "\n",
    "experiments = [# (8388608, \"125x8\", \"FBM\", method),\n",
    "               (33554432, \"334x3\", \"FBM\", method),\n",
    "               (8388608, \"125x8\", \"HRP2_1\", method),\n",
    "               (8388608, \"125x8\", \"HRP3_1\", method),\n",
    "               (8388608, \"125x8\", \"HRP4_1\", method),\n",
    "               # (524288, \"125x8\", \"HRP2_16\", method),\n",
    "               # (524288, \"125x8\", \"HRP3_16\", method),\n",
    "               # (524288, \"125x8\", \"HRP4_16\", method),\n",
    "               (8388608, \"125x8\", \"WEI_1.2\", method),\n",
    "              ]\n",
    "\n",
    "exponents = [0.500, 0.550, 0.600, 0.650, 0.700, 0.750, 0.800, 0.850, 0.900,\n",
    "             0.910, 0.915, 0.920, 0.925, 0.930, 0.935, 0.940, 0.945, 0.950,\n",
    "             0.990]"
   ]
  },
  {
   "cell_type": "markdown",
   "metadata": {},
   "source": [
    "### FIGURE 01"
   ]
  },
  {
   "cell_type": "markdown",
   "metadata": {},
   "source": [
    "for label `fig:fbm_offspring_distribution`"
   ]
  },
  {
   "cell_type": "code",
   "execution_count": null,
   "metadata": {},
   "outputs": [],
   "source": [
    "def figure_01(fig, generator, size, replications, method, p=6, q=7, bars=True, legend=True):\n",
    "    ax = fig.add_subplot(111)\n",
    "\n",
    "    results = experiment[generator, size, :, replications]\n",
    "    data = {float(info_[2]): data_[method] for info_, start_, finish_, seeds_, data_ in results}\n",
    "\n",
    "    color_ = plt.cm.rainbow(np.linspace(0, 1, num=len(exponents)))[::-1]\n",
    "    for col_, hurst_ in zip(color_, exponents):\n",
    "        try:\n",
    "            try:\n",
    "                scale_m, Nmn, Dmnk, Cmnkk, Vmnde, Wmnp, Wavgmn, Wstdmn = data[hurst_]\n",
    "            except ValueError: \n",
    "                scale_m, Nmn, Dmnk, Vmnde, Wmnp, Wavgmn, Wstdmn = data[hurst_]\n",
    "        except KeyError:\n",
    "            continue\n",
    "\n",
    "        levels, Pk_avg, Pk_std = offspring_empirical(Dmnk, slice(p, q), laplace=False)\n",
    "        k, Pk = offspring_prob(2*(Pk_avg.shape[0] + 1), hurst=hurst_)\n",
    "        ax.plot(k, Pk, linestyle='-', color='black', alpha=0.5, zorder=-99)\n",
    "        if bars:\n",
    "            ax.errorbar(k, Pk_avg, yerr=Pk_std, fmt='-s',\n",
    "                        color=col_, markersize=3, alpha=1.0,\n",
    "                        label=\"%s %0.3f\"%(generator, hurst_))\n",
    "        else:\n",
    "            ax.plot(k, Pk_avg, \"-s\", color=col_, markersize=3,\n",
    "                    alpha=1.0, label=\"%s %0.3f\"%(generator, hurst_))\n",
    "\n",
    "    ax.set_xticks(np.arange(2, 43, 2))\n",
    "    ax.grid(alpha=0.5, linestyle=\":\", color=\"grey\")\n",
    "    ax.set_xlim(1.9, 12.1)\n",
    "    ax.set_yscale(\"log\", basey=2)\n",
    "    ax.set_ylim(.5e-4, 1.1)\n",
    "\n",
    "    ax.set_ylabel(\"probability\")\n",
    "    ax.set_xlabel(\"number of offspring\")\n",
    "    \n",
    "    if legend:\n",
    "        legend_ = ax.legend(loc=\"lower left\", frameon=True,\n",
    "                            ncol=2, fontsize=7)\n",
    "        legend_.get_frame() #.set_facecolor(\"whitesmoke\")\n"
   ]
  },
  {
   "cell_type": "markdown",
   "metadata": {},
   "source": [
    "Generate a figure-01 for different sizes and numbers of replications."
   ]
  },
  {
   "cell_type": "code",
   "execution_count": null,
   "metadata": {
    "scrolled": true
   },
   "outputs": [],
   "source": [
    "p, q = 6, 10 # 5, 8\n",
    "for experiment_ in experiments:\n",
    "    size, replications, generator, method_ = experiment_\n",
    "    name_ = \"fig_01-%d_%s-%s-%d-%s-%s.pdf\"%(p, str(q) if isinstance(q, int) else \"X\",\n",
    "                                               generator, size, replications, method_,)\n",
    "\n",
    "    fig = plt.figure(figsize=(6, 5))\n",
    "    figure_01(fig, str(generator), str(size), str(replications), method_,\n",
    "              p, q, bars=False, legend=True)\n",
    "    fig.savefig(os.path.join(output_path, name_), format=\"pdf\")\n",
    "    plt.close()"
   ]
  },
  {
   "cell_type": "markdown",
   "metadata": {},
   "source": [
    "### FIGURE 04"
   ]
  },
  {
   "cell_type": "markdown",
   "metadata": {},
   "source": [
    "for label `fig:fbm_hurst_crossing_tree`"
   ]
  },
  {
   "cell_type": "code",
   "execution_count": null,
   "metadata": {},
   "outputs": [],
   "source": [
    "# exponents = [0.5, 0.6, 0.7, 0.8, 0.9] \n",
    "# exponents = [0.5, 0.55, 0.6, 0.65, 0.7, 0.75, 0.8, 0.85, 0.9, 0.95]\n",
    "def figure_04(fig, generator, size, replications, method, p=6, q=7, bars=False, legend=True):\n",
    "    ax = fig.add_subplot(111)\n",
    "\n",
    "    results = experiment[generator, size, :, replications]\n",
    "    data = {float(info_[2]): data_[method] for info_, start_, finish_, seeds_, data_ in results}\n",
    "\n",
    "    first_, last_ = np.inf, -np.inf\n",
    "    color_ = plt.cm.rainbow(np.linspace(0, 1, num=len(exponents)))[::-1]\n",
    "    for col_, hurst_ in zip(color_, exponents):\n",
    "        try:\n",
    "            try:\n",
    "                scale_m, Nmn, Dmnk, Cmnkk, Vmnde, Wmnp, Wavgmn, Wstdmn = data[hurst_]\n",
    "            except ValueError: \n",
    "                scale_m, Nmn, Dmnk, Vmnde, Wmnp, Wavgmn, Wstdmn = data[hurst_]\n",
    "        except KeyError:\n",
    "            continue\n",
    "        levels, Hj_avg, Hj_std = offspring_hurst(Dmnk, slice(p, q))\n",
    "        ax.axhline(y=hurst_, color='black', linestyle='-', alpha=0.25, zorder=-99)\n",
    "\n",
    "        mask = Hj_avg < hurst_ * 1.35\n",
    "        if bars:\n",
    "            ax.errorbar(levels[mask], Hj_avg[mask], yerr=Hj_std[mask],\n",
    "                        fmt=\"-s\", color=col_, markersize=3, alpha=1.0,\n",
    "                        label=\"%s %0.3f\"%(generator, hurst_))\n",
    "        else:\n",
    "            ax.plot(levels[mask], Hj_avg[mask], \"-s\", \n",
    "                    color=col_, markersize=3, alpha=1.0,\n",
    "                    label=\"%s %0.3f\"%(generator, hurst_))\n",
    "        first_ = min(levels[mask][0], first_)\n",
    "        last_ = max(levels[mask][-1], last_)\n",
    "\n",
    "    last_ = 20 # min(last_, 20)\n",
    "    ax.set_xticks(np.arange(first_, last_ + 1))\n",
    "    ax.grid(color=\"grey\", linestyle=\":\", alpha=0.5)\n",
    "    ax.set_xlim(first_ - 0.1, last_ + 1.1)\n",
    "    ax.set_ylim(0.45, 1.01)\n",
    "    ## Add a legend with white opaque background.\n",
    "    #     ax.set_title( 'Crossing tree estimates of the Hurst exponent' )\n",
    "    ax.set_xlabel(\"level $\\\\delta 2^k$\")\n",
    "    ax.set_ylabel(\"$H$\")\n",
    "\n",
    "    if legend:\n",
    "        legend_ = ax.legend(loc=\"lower right\", frameon=1,\n",
    "                            ncol=2, fontsize=7)\n",
    "        legend_.get_frame() #.set_facecolor(\"whitesmoke\")"
   ]
  },
  {
   "cell_type": "markdown",
   "metadata": {},
   "source": [
    "Create a figure-04 plot of mean-based hurst estimates"
   ]
  },
  {
   "cell_type": "code",
   "execution_count": null,
   "metadata": {},
   "outputs": [],
   "source": [
    "p, q = 0, None\n",
    "for experiment_ in experiments:\n",
    "    size, replications, generator, method_ = experiment_\n",
    "    name_ = \"fig_04-%d_%s-%s-%d-%s-%s.pdf\"%(p, str(q) if isinstance(q, int) else \"X\",\n",
    "                                               generator, size, replications, method_,)\n",
    "\n",
    "    fig = plt.figure(figsize=(6, 5))\n",
    "    figure_04(fig, str(generator), str(size), str(replications), method_,\n",
    "              p, q, bars=False, legend=True)\n",
    "    fig.savefig(os.path.join(output_path, name_), format=\"pdf\")\n",
    "    plt.close()"
   ]
  },
  {
   "cell_type": "markdown",
   "metadata": {},
   "source": [
    "### FIGURE 08"
   ]
  },
  {
   "cell_type": "markdown",
   "metadata": {},
   "source": [
    "for label `fig:fbm_avg_crossing_durations` "
   ]
  },
  {
   "cell_type": "code",
   "execution_count": null,
   "metadata": {},
   "outputs": [],
   "source": [
    "# exponents = [0.5, 0.6, 0.7, 0.8, 0.9] \n",
    "# exponents = [0.5, 0.55, 0.6, 0.65, 0.7, 0.75, 0.8, 0.85, 0.9, 0.95]\n",
    "\n",
    "def figure_08(fig, generator, size, replications, method, bars=False, legend=True):\n",
    "    ax = fig.add_subplot(111)\n",
    "\n",
    "    results = experiment[generator, size, :, replications]\n",
    "    data = {float(info_[2]): data_[method] for info_, start_, finish_, seeds_, data_ in results}\n",
    "\n",
    "    color_ = plt.cm.rainbow(np.linspace(0, 1, num=len(exponents)))[::-1]\n",
    "    for col_, hurst_ in zip(color_, exponents):\n",
    "        try:\n",
    "            try:\n",
    "                scale_m, Nmn, Dmnk, Cmnkk, Vmnde, Wmnp, Wavgmn, Wstdmn = data[hurst_]\n",
    "            except ValueError: \n",
    "                scale_m, Nmn, Dmnk, Vmnde, Wmnp, Wavgmn, Wstdmn = data[hurst_]\n",
    "        except KeyError:\n",
    "            continue\n",
    "        level = np.arange(Wavgmn.shape[-1], dtype=np.float128)\n",
    "        scale_ = (2 ** (-level / hurst_))\n",
    "#         scale_ *= (2 * hurst_ - 1) * 2 * hurst_\n",
    "        Wavgn_ = np.nanmean(Wavgmn / (scale_m[:, np.newaxis] ** (1 / hurst_)), axis=0) * scale_\n",
    "        if bars:\n",
    "            Wstdn_ = np.nanstd(Wavgmn / (scale_m[:, np.newaxis] ** (1 / hurst_)), axis=0) * scale_\n",
    "            ax.errorbar(1+level, Wavgn_, yerr=Wstdn_, fmt=\"-s\", color=col_,\n",
    "                        markersize=3, alpha=1.0, label=\"%s %0.3f\"%(generator, hurst_))\n",
    "        else:\n",
    "            ax.plot(1+level, Wavgn_, \"-s\", color=col_, markersize=3,\n",
    "                    alpha=1.0, label=\"%s %0.3f\"%(generator, hurst_))\n",
    "\n",
    "    ax.set_xticks(range(1, 21))\n",
    "    ax.grid(color=\"grey\", linestyle=\":\", alpha=0.5)\n",
    "    ax.set_yscale(\"log\", basey=2)\n",
    "    ax.set_xlim(0.9, 20.1)\n",
    "    ax.set_xlabel(\"level\")\n",
    "    ax.set_ylabel(\"$\\\\left(\\\\delta 2^n \\\\right)^{-H^{-1}} {\\\\mathbb{E}W^n}$\")\n",
    "    if legend:\n",
    "        legend_ = ax.legend(loc=\"lower left\", frameon=1,\n",
    "                            ncol=3, fontsize=7)\n",
    "        legend_.get_frame() #.set_facecolor(\"whitesmoke\")\n"
   ]
  },
  {
   "cell_type": "markdown",
   "metadata": {},
   "source": [
    "Create a figure-08 plot of scaled average crossing durations."
   ]
  },
  {
   "cell_type": "code",
   "execution_count": null,
   "metadata": {},
   "outputs": [],
   "source": [
    "for experiment_ in experiments:\n",
    "    size, replications, generator, method_ = experiment_\n",
    "    name_ = \"fig_08-%s-%d-%s-%s.pdf\"%(generator, size, replications, method_,)\n",
    "\n",
    "    fig = plt.figure(figsize=(6, 5))\n",
    "    figure_08(fig, str(generator), str(size), str(replications), method_,\n",
    "              bars=False, legend=True)\n",
    "    fig.savefig(os.path.join(output_path, name_), format=\"pdf\")\n",
    "    plt.close()\n",
    "    "
   ]
  },
  {
   "cell_type": "markdown",
   "metadata": {},
   "source": [
    "### TABLE 01"
   ]
  },
  {
   "cell_type": "markdown",
   "metadata": {},
   "source": [
    "For the table ```tab:avg_offspring``` showing the average number\n",
    "of offspring at each tree level."
   ]
  },
  {
   "cell_type": "code",
   "execution_count": null,
   "metadata": {},
   "outputs": [],
   "source": [
    "from math import floor\n",
    "\n",
    "full_table = list()\n",
    "for experiment_ in experiments:\n",
    "    size, replications, generator, method = experiment_\n",
    "\n",
    "    results = experiment[str(generator), str(size), :, str(replications)]\n",
    "    data = {float(info_[2]): data_[method] for info_, start_, finish_, seeds_, data_ in results}\n",
    "    \n",
    "    table = list()\n",
    "    for hurst_ in exponents:\n",
    "        try:\n",
    "            try:\n",
    "                scale_m, Nmn, Dmnk, Cmnkk, Vmnde, Wmnp, Wavgmn, Wstdmn = data[hurst_]\n",
    "            except ValueError: \n",
    "                scale_m, Nmn, Dmnk, Vmnde, Wmnp, Wavgmn, Wstdmn = data[hurst_]\n",
    "        except KeyError:\n",
    "            continue\n",
    "\n",
    "        # Compute the average number of offspring and the standard deviation\n",
    "        # df_ = pd.DataFrame(dict(average=Nmn.mean(axis=0), std=Nmn.std(axis=0)),\n",
    "        #                    index=pd.RangeIndex(stop=Nmn.shape[1],name='Level'))\n",
    "        df_ = pd.Series([\"$%1.1f\\pm%0.2f\\\\%%$\"%(m/1000, 100*s/m) if floor(m/100) > 0 else \"--\"\n",
    "                         for m, s in zip(Nmn.mean(axis=0), Nmn.std(axis=0))],\n",
    "                        index=pd.RangeIndex(stop=Nmn.shape[1],name='Level'), name=hurst_)\n",
    "        table.append((hurst_, df_))\n",
    "\n",
    "    table = pd.concat([tab_ for hurst_, tab_ in table], axis=1,\n",
    "                      keys=[hurst_ for hurst_, tab_ in table], names=[\"hurst\"])    \n",
    "    full_table.append((experiment_, table))\n",
    "\n",
    "table = pd.concat([tab_ for hurst_, tab_ in full_table], axis=1, join=\"inner\", \n",
    "                  keys=[hurst_ for hurst_, tab_ in full_table],\n",
    "                  names=[\"size\", \"replications\", \"generator\", \"method\"])"
   ]
  },
  {
   "cell_type": "markdown",
   "metadata": {},
   "source": [
    "Might want to use ```\\usepackage{booktabs}``` or ```\\usepackage{lscape}```\n",
    "\n",
    "Output ```.tex``` files with name format ```\"tab_01-%s-%0.3f.tex\"%(method, hurst,)```"
   ]
  },
  {
   "cell_type": "code",
   "execution_count": null,
   "metadata": {},
   "outputs": [],
   "source": [
    "for hurst_ in exponents:\n",
    "    name_ = \"tab_01-%s-%0.3f.tex\"%(method_, hurst_,)\n",
    "    \n",
    "    out_ = table.xs(method, axis=1, level=3).xs(hurst_, axis=1, level=-1)\n",
    "    out_.columns = out_.columns.droplevel(0).droplevel(0)\n",
    "\n",
    "    # .style.format({\"average\":\"{:1.0f}\", \"std\":\"±{:1.0f}\"})\n",
    "    body_ = out_.to_latex(escape=False, na_rep=\"--\", bold_rows=True)\\\n",
    "                .replace(\"_\", \"\\\\_\")\n",
    "    body_ += \"\"\"\\\\caption{The average number of offspring at each level (in\\n\"\"\"\\\n",
    "             \"\"\"         thousands; $\\\\pm$1 std. dev. in percent) for processes\\n\"\"\"\\\n",
    "             \"\"\"         with $H=%0.3f$.} \\n\"\"\"%(hurst_,)\n",
    "    body_ += \"\"\"\\\\label{tab:avg_offspring_%0.3f}\\n\"\"\"%(hurst_,)\n",
    "\n",
    "    with open(os.path.join(output_path, name_), \"w\") as fout_:\n",
    "        fout_.write(body_)"
   ]
  },
  {
   "cell_type": "markdown",
   "metadata": {},
   "source": [
    "### FIGURE"
   ]
  },
  {
   "cell_type": "markdown",
   "metadata": {},
   "source": [
    "Take the average crossing duration at each level"
   ]
  },
  {
   "cell_type": "markdown",
   "metadata": {},
   "source": [
    "$(\\delta 2^n)^{-H^{-1}} \\mathbb{E}W^n = 2^{f(H, d)}$\n",
    "\n",
    "$\\log_2 \\mathbb{E}W^n = f(H, d) + \\frac1H \\log_2 \\delta + \\frac{n}{H}$\n",
    "\n",
    "$\\log_2 (\\delta 2^n)^{-H^{-1}} \\mathbb{E}W^n = f(H, d)$\n",
    "\n",
    "$F(H, d) = d \\bigl(H - \\frac12\\bigr)^{-\\frac2{d}}$"
   ]
  },
  {
   "cell_type": "code",
   "execution_count": null,
   "metadata": {},
   "outputs": [],
   "source": [
    "selector = np.s_[:12]\n",
    "levels_ = np.r_[selector].astype(float)\n",
    "\n",
    "log2ed_list = []\n",
    "\n",
    "check_list_ = [\n",
    "    (33554432, \"334x3\", \"FBM\", 1.0),\n",
    "    (8388608, \"125x8\", \"HRP2_1\", 2.0),\n",
    "    (8388608, \"125x8\", \"HRP3_1\", 3.0),\n",
    "    (8388608, \"125x8\", \"HRP4_1\", 4.0),\n",
    "]\n",
    "\n",
    "for size, replications, name, degree in check_list_:\n",
    "    results = experiment[name, str(size), :, str(replications)]\n",
    "    data = {float(info_[2]): data_[method]\n",
    "            for info_, start_, finish_, seeds_, data_ in results\n",
    "            if float(info_[2]) > 0.5}\n",
    "\n",
    "    slices_ = {hurst_: (res_[0], res_[-2][:, selector]) for hurst_, res_ in data.items()}\n",
    "    \n",
    "    log2ed_ = np.stack([(np.log2(dur_) - (np.log2(delta_[:, np.newaxis]) + levels_) / hurst_).mean(axis=0)\n",
    "                        for hurst_, (delta_, dur_) in slices_.items()], axis=0)\n",
    "\n",
    "    hursts_ = np.array([*slices_.keys()])[:, np.newaxis]\n",
    "    order_ = hursts_.argsort(axis=0)[:, 0]\n",
    "\n",
    "    hursts_ = hursts_[order_]\n",
    "    log2ed_ = log2ed_[order_]\n",
    "\n",
    "    log2ed_ /= (1.5 - hursts_)\n",
    "\n",
    "#     h0_ = (hursts_ - 1) / degree + 1\n",
    "#     log2ed_ /= (1.5 - h0_)\n",
    "\n",
    "    log2ed_list.append(log2ed_)\n",
    "    # log2ed_ /= ((hursts_ - 1) / degree + 0.5) ** (-2 / float(degree))"
   ]
  },
  {
   "cell_type": "code",
   "execution_count": null,
   "metadata": {},
   "outputs": [],
   "source": [
    "log2ed_ = np.stack(log2ed_list, axis=0).mean(axis=-1)"
   ]
  },
  {
   "cell_type": "code",
   "execution_count": null,
   "metadata": {},
   "outputs": [],
   "source": [
    "plt.plot(hursts_, log2ed_[0], \"r\")    # d - 1\n",
    "plt.plot(hursts_, log2ed_[1], \"g\") # d - 1 - 0\n",
    "plt.plot(hursts_, log2ed_[2], \"b\")   # d - 1 - 0.75\n",
    "plt.plot(hursts_, log2ed_[3], \"k\")# d - 1 - "
   ]
  },
  {
   "cell_type": "code",
   "execution_count": null,
   "metadata": {},
   "outputs": [],
   "source": [
    "dlog2ed_ = np.diff(log2ed_, axis=-1) / np.diff(hursts_.T, axis=-1)"
   ]
  },
  {
   "cell_type": "code",
   "execution_count": null,
   "metadata": {},
   "outputs": [],
   "source": [
    "dlog2ed_[:, :-2].mean(axis=-1)"
   ]
  },
  {
   "cell_type": "code",
   "execution_count": null,
   "metadata": {},
   "outputs": [],
   "source": [
    "plt.plot(hursts_[1:], dlog2ed_[0], \"r\")\n",
    "plt.plot(hursts_[1:], dlog2ed_[1], \"g\")\n",
    "plt.plot(hursts_[1:], dlog2ed_[2], \"b\")\n",
    "plt.plot(hursts_[1:], dlog2ed_[3], \"k\")"
   ]
  },
  {
   "cell_type": "code",
   "execution_count": null,
   "metadata": {},
   "outputs": [],
   "source": [
    "plt.plot(hursts_[1:], dlog2ed_[0] + 0, \"r\")     # d - 1\n",
    "plt.plot(hursts_[1:], dlog2ed_[1] + 18.5, \"g\")  # d - 1 - 0\n",
    "plt.plot(hursts_[1:], dlog2ed_[2] + 25, \"b\")    # d - 1 - 0.75\n",
    "plt.plot(hursts_[1:], dlog2ed_[3] + 28.25, \"k\") # d - 1 - "
   ]
  },
  {
   "cell_type": "code",
   "execution_count": null,
   "metadata": {},
   "outputs": [],
   "source": [
    "fig = plt.figure(figsize=(16, 9))\n",
    "ax = fig.add_subplot(111)\n",
    "color_ = plt.cm.rainbow(np.linspace(0, 1, num=5))[::-1]\n",
    "for hurst_, Wavgmn in slices_.items():\n",
    "    ax.hist(np.log2(Wavgmn[:, 0]),\n",
    "            bins=200, alpha=0.5, lw=0, normed=True, color=\"red\")\n",
    "#     for level, (Wavgn, col_) in enumerate(zip(Wavgmn.T, color_), 7):\n",
    "#         ax.hist(np.log2(Wavgn) - (float(level) / hurst_)**(1-hurst_),\n",
    "#                 bins=200, alpha=0.5, lw=0, normed=True, color=col_)\n"
   ]
  },
  {
   "cell_type": "code",
   "execution_count": null,
   "metadata": {},
   "outputs": [],
   "source": [
    "log_Wavghn = np.stack([np.nanmean(np.diff(np.log2(Wavgmn), axis=1), axis=0)\n",
    "                       for hurst_, Wavgmn in slices_.items()])\n",
    "hursts_ = np.array(slices_.keys())"
   ]
  },
  {
   "cell_type": "code",
   "execution_count": null,
   "metadata": {},
   "outputs": [],
   "source": [
    "log_Wavghn.shape"
   ]
  },
  {
   "cell_type": "code",
   "execution_count": null,
   "metadata": {},
   "outputs": [],
   "source": [
    "plt.plot(hursts_[np.newaxis, :] * log_Wavghn.T)"
   ]
  },
  {
   "cell_type": "code",
   "execution_count": null,
   "metadata": {},
   "outputs": [],
   "source": [
    "colors_ = plt.cm.rainbow_r(np.linspace(0, 1, num=log_Wavghn.shape[1]))\n",
    "for col_, log_Wavgh in zip(colors_, log_Wavghn.T):\n",
    "    plt.scatter(hursts_, log_Wavgh * hursts_, lw=0, color=col_, alpha=0.5);"
   ]
  },
  {
   "cell_type": "code",
   "execution_count": null,
   "metadata": {},
   "outputs": [],
   "source": [
    "log_Wavgh * hursts_ - 1"
   ]
  },
  {
   "cell_type": "code",
   "execution_count": null,
   "metadata": {},
   "outputs": [],
   "source": [
    "y = np.log2(np.diff(log_Wavghn, axis=1).mean(axis=1))\n",
    "X = hursts_"
   ]
  },
  {
   "cell_type": "code",
   "execution_count": null,
   "metadata": {},
   "outputs": [],
   "source": [
    "1.0 / (np.diff(y) / np.diff(X))"
   ]
  },
  {
   "cell_type": "code",
   "execution_count": null,
   "metadata": {},
   "outputs": [],
   "source": [
    "1.0 / np.diff(log_Wavghn, axis=1).mean(axis=1) - hursts_"
   ]
  },
  {
   "cell_type": "code",
   "execution_count": null,
   "metadata": {},
   "outputs": [],
   "source": [
    "plt.scatter(hursts_, np.diff(log_Wavghn, axis=1).mean(axis=1) - 1.0 / hursts_)"
   ]
  },
  {
   "cell_type": "code",
   "execution_count": null,
   "metadata": {},
   "outputs": [],
   "source": [
    "plt.scatter(hursts_, np.log2(np.diff(log_Wavghn, axis=1).mean(axis=1)))"
   ]
  },
  {
   "cell_type": "code",
   "execution_count": null,
   "metadata": {},
   "outputs": [],
   "source": [
    "plt.plot(np.diff(log_Wavghn, axis=1).T)"
   ]
  },
  {
   "cell_type": "code",
   "execution_count": null,
   "metadata": {},
   "outputs": [],
   "source": [
    "# / hursts_[np.newaxis]"
   ]
  }
 ],
 "metadata": {
  "kernelspec": {
   "display_name": "Python 3",
   "language": "python",
   "name": "python3"
  },
  "language_info": {
   "codemirror_mode": {
    "name": "ipython",
    "version": 3
   },
   "file_extension": ".py",
   "mimetype": "text/x-python",
   "name": "python",
   "nbconvert_exporter": "python",
   "pygments_lexer": "ipython3",
   "version": "3.7.2"
  }
 },
 "nbformat": 4,
 "nbformat_minor": 1
}
