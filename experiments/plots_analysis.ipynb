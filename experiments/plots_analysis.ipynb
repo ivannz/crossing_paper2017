{
 "cells": [
  {
   "cell_type": "markdown",
   "metadata": {},
   "source": [
    "# Plots and analysis"
   ]
  },
  {
   "cell_type": "code",
   "execution_count": null,
   "metadata": {
    "collapsed": true
   },
   "outputs": [],
   "source": [
    "import os, re\n",
    "import time\n",
    "import numpy as np\n",
    "import pandas as pd\n",
    "\n",
    "%matplotlib inline\n",
    "import matplotlib.pyplot as plt"
   ]
  },
  {
   "cell_type": "markdown",
   "metadata": {},
   "source": [
    "an unpickler function"
   ]
  },
  {
   "cell_type": "code",
   "execution_count": null,
   "metadata": {
    "collapsed": true
   },
   "outputs": [],
   "source": [
    "import gzip, cPickle\n",
    "\n",
    "fmt_ = re.compile(r\"^(?P<generator>[^-]+)-(?P<P>\\d+)-(?P<hurst>(\\d*\\.)?\\d+)\" +\n",
    "                  r\"-(?P<M>\\d+)x(?P<n_jobs>\\d+)\" +\n",
    "                  r\"_(?P<dttm>[\\d-]+)$\", flags=re.I | re.U)\n",
    "keys_ = [tup_[0] for tup_ in sorted(fmt_.groupindex.iteritems(),\n",
    "                                    key=lambda tup_: tup_[1])]\n",
    "\n",
    "def load(filename):\n",
    "    base_ = os.path.basename(filename)\n",
    "    try:\n",
    "        matches_ = fmt_.match(base_[:-3])\n",
    "    except IndexError:\n",
    "        raise ValueError(\"\"\"Invalid filename format.\"\"\")\n",
    "\n",
    "    info_ = {key_: matches_.group(key_) for key_ in keys_}\n",
    "    with gzip.open(filename, \"rb\") as f:\n",
    "        start, finish, seeds, results = cPickle.load(f)\n",
    "    return info_, start, finish, seeds, results"
   ]
  },
  {
   "cell_type": "markdown",
   "metadata": {},
   "source": [
    "A function to scan the folder and group the experiment results by generator-delta."
   ]
  },
  {
   "cell_type": "code",
   "execution_count": null,
   "metadata": {
    "collapsed": false
   },
   "outputs": [],
   "source": [
    "path = \"../results/\"\n",
    "\n",
    "experiment = dict()\n",
    "for base_ in os.listdir(path):\n",
    "    if not base_.endswith(\".gz\"):\n",
    "        continue\n",
    "    info_, start, finish, seeds, results = load(os.path.join(path, base_))\n",
    "    \n",
    "    gen, hurst = info_[\"generator\"], float(info_[\"hurst\"])\n",
    "    log2_len, n_mc_rep = int(info_[\"P\"]), \"%(M)sx%(n_jobs)s\"%info_\n",
    "\n",
    "    if log2_len not in experiment:\n",
    "        experiment[log2_len] = dict()\n",
    "\n",
    "    if n_mc_rep not in experiment[log2_len]:\n",
    "        experiment[log2_len][n_mc_rep] = dict()\n",
    "    if gen not in experiment[log2_len][n_mc_rep]:\n",
    "        experiment[log2_len][n_mc_rep][gen] = dict()\n",
    "\n",
    "    for method, data in results.iteritems():\n",
    "        if method not in experiment[log2_len][n_mc_rep][gen]:\n",
    "            experiment[log2_len][n_mc_rep][gen][method] = dict()\n",
    "        if not hurst in experiment[log2_len][n_mc_rep][gen][method]:\n",
    "            experiment[log2_len][n_mc_rep][gen][method][hurst] = dict()\n",
    "        experiment[log2_len][n_mc_rep][gen][method][hurst] = data"
   ]
  },
  {
   "cell_type": "markdown",
   "metadata": {},
   "source": [
    "Compute the empirical probabilities by averaging across all replications"
   ]
  },
  {
   "cell_type": "code",
   "execution_count": null,
   "metadata": {
    "collapsed": false
   },
   "outputs": [],
   "source": [
    "def offspring_empirical(Dmnk, levels, laplace=False):\n",
    "    # Get pooled frequencies\n",
    "    Djk = Dmnk[:, levels].sum(axis=1, keepdims=False, dtype=np.float)\n",
    "    Dj = Djk.sum(axis=1, keepdims=True)\n",
    "    # Compute the empirical probabilities\n",
    "    Pjk = Djk / Dj if not laplace else (Djk + 1.0) / (Dj + Djk.shape[1])\n",
    "    levels = np.arange(Dmnk.shape[1], dtype=np.int)[levels]\n",
    "    return levels + 1, np.nanmean(Pjk, axis=0), np.nanstd(Pjk, axis=0)"
   ]
  },
  {
   "cell_type": "markdown",
   "metadata": {},
   "source": [
    "Get theoretical values of the probability according to the conjectured distribution:\n",
    "$$ Z \\sim \\text{Geom}\\bigl(4^{\\frac{1}{2}-\\frac{1}{2h}}\\bigr) \\text{ over } \\{2n\\,:\\,n\\geq 1\\} \\,. $$\n",
    "\n",
    "For $\\theta = 2^{1-h^{-1}}$, the law, once again, is\n",
    "$$ \\mathbb{P}(Z=2k) = \\theta \\cdot (1-\\theta)^{k-1}\\,. $$"
   ]
  },
  {
   "cell_type": "code",
   "execution_count": null,
   "metadata": {
    "collapsed": false
   },
   "outputs": [],
   "source": [
    "from math import log\n",
    "\n",
    "def offspring_prob(Z_max, hurst):\n",
    "    Z = np.arange(2, Z_max, 2)\n",
    "    theta = 2.0 ** (1.0 - 1.0 / hurst)\n",
    "    return Z, theta * np.exp((Z // 2 - 1) * log(1 - theta))"
   ]
  },
  {
   "cell_type": "markdown",
   "metadata": {},
   "source": [
    "Use the geometric distribution's mean value to estimate the hurst exponent:\n",
    "$$ \\mathbb{E} Z\n",
    "    = 2 \\theta \\sum_{k\\geq 1} k (1 - \\theta)^{k-1}\n",
    "    = 2 \\theta \\sum_{k\\geq 1} \\sum_{j\\geq k} (1 - \\theta)^{j-1}\n",
    "    = 2 \\theta \\sum_{k\\geq 1} \\theta^{-1} (1 - \\theta)^{k-1}\n",
    "    = 2 \\theta^{-1} \\,, $$\n",
    "whence\n",
    "$$ 2^{1-h^{-1}} = \\frac{2}{\\mathbb{E} Z} \\Leftrightarrow h = \\frac{\\log 2}{\\log \\mathbb{E}Z}\\,. $$"
   ]
  },
  {
   "cell_type": "code",
   "execution_count": null,
   "metadata": {
    "collapsed": true
   },
   "outputs": [],
   "source": [
    "def offspring_hurst(Dmnk, levels, laplace=False):\n",
    "    # Get pooled frequencies\n",
    "    Dmj = Dmnk[:, levels].sum(axis=2, dtype=np.float)\n",
    "    # Compute the sum of the left-closed tails sums,\n",
    "    #  and divide by the total number of offspring.\n",
    "    Mmj = 2 * Dmnk[:, levels, ::-1].cumsum(axis=-1).sum(axis=-1) / Dmj\n",
    "    Hmj = np.log(2) / np.log(Mmj)\n",
    "    levels = np.arange(Dmnk.shape[1], dtype=np.int)[levels]\n",
    "    return levels + 1, np.nanmean(Hmj, axis=0), np.nanstd(Hmj, axis=0)"
   ]
  },
  {
   "cell_type": "markdown",
   "metadata": {},
   "source": [
    "## Experiments"
   ]
  },
  {
   "cell_type": "code",
   "execution_count": null,
   "metadata": {
    "collapsed": false,
    "scrolled": true
   },
   "outputs": [],
   "source": [
    "output_path = os.path.join(\"../plots\", time.strftime(\"%Y%m%d_%H%M%S\"))\n",
    "\n",
    "if not os.path.exists(output_path):\n",
    "    os.mkdir(output_path)\n",
    "\n",
    "print output_path"
   ]
  },
  {
   "cell_type": "markdown",
   "metadata": {},
   "source": [
    "Create the output folder."
   ]
  },
  {
   "cell_type": "code",
   "execution_count": null,
   "metadata": {
    "collapsed": true
   },
   "outputs": [],
   "source": [
    "method = \"med\"\n",
    "\n",
    "experiments = [# (524288, \"125x8\", \"HRP2_16\", method),\n",
    "               # (524288, \"125x8\", \"HRP3_16\", method),\n",
    "               # (524288, \"125x8\", \"HRP4_16\", method),\n",
    "               (2097152, \"125x8\", \"WEI_1.2\", method),\n",
    "               (8388608, \"125x8\", \"WEI_1.2\", method),\n",
    "               (8388608, \"125x8\", \"WEI_1.7\", method),\n",
    "               (8388608, \"125x8\", \"FBM\", method),\n",
    "               (2097152, \"125x8\", \"FBM\", method),\n",
    "               (131072, \"125x8\", \"HRP2_16\", method),\n",
    "               (131072, \"125x8\", \"HRP3_16\", method),\n",
    "               (131072, \"125x8\", \"HRP4_16\", method),]\n",
    "\n",
    "exponents = [0.500, 0.550, 0.600, 0.650, 0.700, 0.750, 0.800, 0.850, 0.900,\n",
    "             0.910, 0.915, 0.920, 0.925, 0.930, 0.935, 0.940, 0.945, 0.950,\n",
    "             0.990]"
   ]
  },
  {
   "cell_type": "markdown",
   "metadata": {},
   "source": [
    "### FIGURE 01"
   ]
  },
  {
   "cell_type": "markdown",
   "metadata": {},
   "source": [
    "for label `fig:fbm_offspring_distribution`"
   ]
  },
  {
   "cell_type": "code",
   "execution_count": null,
   "metadata": {
    "collapsed": false
   },
   "outputs": [],
   "source": [
    "def figure_01(fig, log2_len, n_mc_rep, gen, method, p=6, q=7, bars=True, legend=True):\n",
    "#     exponents = [0.5, 0.6, 0.7, 0.8, 0.9]\n",
    "    data_ = experiment[log2_len][n_mc_rep][gen][method]\n",
    "\n",
    "    ax = fig.add_subplot(111)\n",
    "\n",
    "    color_ = plt.cm.rainbow(np.linspace(0, 1, num=len(exponents)))[::-1]\n",
    "    for col_, hurst_ in zip(color_, exponents):\n",
    "        try:\n",
    "            scale_m, Nmn, Dmnk, Vmnde, Wmnp, Wavgmn, Wstdmn = data_[hurst_]\n",
    "        except KeyError:\n",
    "            continue\n",
    "        levels, Pk_avg, Pk_std = offspring_empirical(Dmnk, slice(p, q), laplace=False)\n",
    "        k, Pk = offspring_prob(2*(Pk_avg.shape[0] + 1), hurst=hurst_)\n",
    "        ax.plot(k, Pk, linestyle='-', color='black', alpha=0.5)\n",
    "        if bars:\n",
    "            ax.errorbar(k, Pk_avg, yerr=Pk_std, fmt='-s',\n",
    "                        color=col_, markersize=3, alpha=1.0,\n",
    "                        label=\"%s %0.3f\"%(gen, hurst_))\n",
    "        else:\n",
    "            ax.plot(k, Pk_avg, \"-s\", color=col_, markersize=3,\n",
    "                    alpha=1.0, label=\"%s %0.3f\"%(gen, hurst_))\n",
    "\n",
    "    ax.set_xticks(np.arange(2, 43, 2))\n",
    "    ax.grid(alpha=0.5, linestyle=\":\", color=\"grey\")\n",
    "    ax.set_xlim(1.9, 12.1)\n",
    "    ax.set_yscale(\"log\", basey=2)\n",
    "    ax.set_ylim(.5e-4, 1.1)\n",
    "\n",
    "    ax.set_ylabel(\"probability\")\n",
    "    ax.set_xlabel(\"number of offspring\")\n",
    "    \n",
    "    if legend:\n",
    "        legend_ = ax.legend(loc=\"lower left\", frameon=True,\n",
    "                            ncol=2, fontsize=8)\n",
    "        legend_.get_frame() #.set_facecolor(\"whitesmoke\")\n"
   ]
  },
  {
   "cell_type": "markdown",
   "metadata": {},
   "source": [
    "Generate a figure-01 for different sizes and numbers of replications."
   ]
  },
  {
   "cell_type": "code",
   "execution_count": null,
   "metadata": {
    "collapsed": false
   },
   "outputs": [],
   "source": [
    "p, q = 6, 10 # 5, 8\n",
    "for experiment_ in experiments:\n",
    "    log2_len, n_mc_rep, gen, method = experiment_\n",
    "    name_ = \"fig_01-%d_%s-%s-%d-%s-%s.pdf\"%(p, str(q) if isinstance(q, int) else \"X\",\n",
    "                                               gen, log2_len, n_mc_rep, method,)\n",
    "\n",
    "    fig = plt.figure(figsize=(6, 5))\n",
    "    figure_01(fig, log2_len, n_mc_rep, gen, method,\n",
    "              p, q, bars=False, legend=True)\n",
    "    fig.savefig(os.path.join(output_path, name_), format=\"pdf\")\n",
    "    plt.close()"
   ]
  },
  {
   "cell_type": "markdown",
   "metadata": {},
   "source": [
    "### FIGURE 04"
   ]
  },
  {
   "cell_type": "markdown",
   "metadata": {},
   "source": [
    "for label `fig:fbm_hurst_crossing_tree`"
   ]
  },
  {
   "cell_type": "code",
   "execution_count": null,
   "metadata": {
    "collapsed": true
   },
   "outputs": [],
   "source": [
    "def figure_04(fig, log2_len, n_mc_rep, gen, method, p=6, q=7, bars=False, legend=True):\n",
    "#     exponents = [0.5, 0.6, 0.7, 0.8, 0.9] \n",
    "#     exponents = [0.5, 0.55, 0.6, 0.65, 0.7, 0.75, 0.8, 0.85, 0.9, 0.95]\n",
    "    data_ = experiment[log2_len][n_mc_rep][gen][method]\n",
    "    ax = fig.add_subplot(111)\n",
    "\n",
    "    first_, last_ = np.inf, -np.inf\n",
    "    color_ = plt.cm.rainbow(np.linspace(0, 1, num=len(exponents)))[::-1]\n",
    "    for col_, hurst_ in zip(color_, exponents):\n",
    "        try:\n",
    "            scale_m, Nmn, Dmnk, Vmnde, Wmnp, Wavgmn, Wstdmn = data_[hurst_]\n",
    "        except KeyError:\n",
    "            continue\n",
    "        levels, Hj_avg, Hj_std = offspring_hurst(Dmnk, slice(p, q))\n",
    "        ax.axhline(y=hurst_, color='black', linestyle='-', alpha=0.25, zorder=-99)\n",
    "\n",
    "        mask = Hj_avg < hurst_ * 1.35\n",
    "        if bars:\n",
    "            ax.errorbar(levels[mask], Hj_avg[mask], yerr=Hj_std[mask],\n",
    "                        fmt=\"-s\", color=col_, markersize=3, alpha=1.0,\n",
    "                        label=\"%s %0.3f\"%(gen, hurst_))\n",
    "        else:\n",
    "            ax.plot(levels[mask], Hj_avg[mask], \"-s\", \n",
    "                    color=col_, markersize=3, alpha=1.0,\n",
    "                    label=\"%s %0.3f\"%(gen, hurst_))\n",
    "        first_ = min(levels[mask][0], first_)\n",
    "        last_ = max(levels[mask][-1], last_)\n",
    "\n",
    "    last_ = 20 # min(last_, 20)\n",
    "    ax.set_xticks(np.arange(first_, last_ + 1))\n",
    "    ax.grid(color=\"grey\", linestyle=\":\", alpha=0.5)\n",
    "    ax.set_xlim(first_ - 0.1, last_ + 1.1)\n",
    "    ax.set_ylim(0.45, 1.01)\n",
    "    ## Add a legend with white opaque background.\n",
    "    #     ax.set_title( 'Crossing tree estimates of the Hurst exponent' )\n",
    "    ax.set_xlabel(\"level $\\\\delta 2^k$\")\n",
    "    ax.set_ylabel(\"$H$\")\n",
    "\n",
    "    if legend:\n",
    "        legend_ = ax.legend(loc=\"lower right\", frameon=1,\n",
    "                            ncol=2, fontsize=8)\n",
    "        legend_.get_frame() #.set_facecolor(\"whitesmoke\")"
   ]
  },
  {
   "cell_type": "markdown",
   "metadata": {},
   "source": [
    "Create a figure-04 plot of mean-based hurst estimates"
   ]
  },
  {
   "cell_type": "code",
   "execution_count": null,
   "metadata": {
    "collapsed": false
   },
   "outputs": [],
   "source": [
    "p, q = 0, None\n",
    "for experiment_ in experiments:\n",
    "    log2_len, n_mc_rep, gen, method = experiment_\n",
    "    name_ = \"fig_04-%d_%s-%s-%d-%s-%s.pdf\"%(p, str(q) if isinstance(q, int) else \"X\",\n",
    "                                               gen, log2_len, n_mc_rep, method,)\n",
    "\n",
    "    fig = plt.figure(figsize=(6, 5))\n",
    "    figure_04(fig, log2_len, n_mc_rep, gen, method,\n",
    "              p, q, bars=False, legend=True)\n",
    "    fig.savefig(os.path.join(output_path, name_), format=\"pdf\")\n",
    "    plt.close()"
   ]
  },
  {
   "cell_type": "markdown",
   "metadata": {},
   "source": [
    "### FIGURE 08"
   ]
  },
  {
   "cell_type": "markdown",
   "metadata": {},
   "source": [
    "for label `fig:fbm_avg_crossing_durations` "
   ]
  },
  {
   "cell_type": "code",
   "execution_count": null,
   "metadata": {
    "collapsed": false
   },
   "outputs": [],
   "source": [
    "def figure_08(fig, log2_len, n_mc_rep, gen, method, bars=False, legend=True):\n",
    "#     exponents = [0.5, 0.6, 0.7, 0.8, 0.9] \n",
    "#     exponents = [0.5, 0.55, 0.6, 0.65, 0.7, 0.75, 0.8, 0.85, 0.9, 0.95]\n",
    "    \n",
    "    data_ = experiment[log2_len][n_mc_rep][gen][method]\n",
    "    ax = fig.add_subplot(111)\n",
    "\n",
    "    color_ = plt.cm.rainbow(np.linspace(0, 1, num=len(exponents)))[::-1]\n",
    "    for col_, hurst_ in zip(color_, exponents):\n",
    "        try:\n",
    "            scale_m, Nmn, Dmnk, Vmnde, Wmnp, Wavgmn, Wstdmn = data_[hurst_]\n",
    "        except KeyError:\n",
    "            continue    \n",
    "        level = np.arange(Wavgmn.shape[-1], dtype=np.float)\n",
    "        scale_ = 2 ** (-level / hurst_)\n",
    "        Wavgn_ = np.nanmean(Wavgmn / (scale_m[:, np.newaxis] ** (1 / hurst_)), axis=0) * scale_\n",
    "        if bars:\n",
    "            Wstdn_ = np.nanstd(Wavgmn / (scale_m[:, np.newaxis] ** (1 / hurst_)), axis=0) * scale_\n",
    "            ax.errorbar(1+level, Wavgn_, yerr=Wstdn_, fmt=\"-s\", color=col_,\n",
    "                        markersize=3, alpha=1.0, label=\"%s %0.3f\"%(gen, hurst_))\n",
    "        else:\n",
    "            ax.plot(1+level, Wavgn_, \"-s\", color=col_, markersize=3,\n",
    "                    alpha=1.0, label=\"%s %0.3f\"%(gen, hurst_))\n",
    "\n",
    "    ax.set_xticks(range(1, 21))\n",
    "    ax.grid(color=\"grey\", linestyle=\":\", alpha=0.5)\n",
    "    ax.set_yscale(\"log\", basey=2)\n",
    "    ax.set_xlim(0.9, 20.1)\n",
    "    ax.set_xlabel(\"level\")\n",
    "    ax.set_ylabel(\"$\\\\left(2^n \\\\delta\\\\right)^{-H^{-1}} {\\\\mathbb{E}W^n}$\")\n",
    "    if legend:\n",
    "        legend_ = ax.legend(loc=\"lower left\", frameon=1,\n",
    "                            ncol=2, fontsize=8)\n",
    "        legend_.get_frame() #.set_facecolor(\"whitesmoke\")\n"
   ]
  },
  {
   "cell_type": "markdown",
   "metadata": {},
   "source": [
    "Create a figure-08 plot of scaled average crossing durations."
   ]
  },
  {
   "cell_type": "code",
   "execution_count": null,
   "metadata": {
    "collapsed": false
   },
   "outputs": [],
   "source": [
    "for experiment_ in experiments:\n",
    "    log2_len, n_mc_rep, gen, method = experiment_\n",
    "    name_ = \"fig_08-%s-%d-%s-%s.pdf\"%(gen, log2_len, n_mc_rep, method,)\n",
    "\n",
    "    fig = plt.figure(figsize=(6, 5))\n",
    "    figure_08(fig, log2_len, n_mc_rep, gen, method,\n",
    "              bars=False, legend=True)\n",
    "    fig.savefig(os.path.join(output_path, name_), format=\"pdf\")\n",
    "    plt.close()\n",
    "    "
   ]
  },
  {
   "cell_type": "markdown",
   "metadata": {},
   "source": [
    "### FIGURE"
   ]
  },
  {
   "cell_type": "code",
   "execution_count": null,
   "metadata": {
    "collapsed": true
   },
   "outputs": [],
   "source": []
  }
 ],
 "metadata": {
  "kernelspec": {
   "display_name": "Python 2",
   "language": "python",
   "name": "python2"
  },
  "language_info": {
   "codemirror_mode": {
    "name": "ipython",
    "version": 2
   },
   "file_extension": ".py",
   "mimetype": "text/x-python",
   "name": "python",
   "nbconvert_exporter": "python",
   "pygments_lexer": "ipython2",
   "version": "2.7.10"
  }
 },
 "nbformat": 4,
 "nbformat_minor": 1
}
