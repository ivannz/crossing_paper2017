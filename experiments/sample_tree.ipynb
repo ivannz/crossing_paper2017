{
 "cells": [
  {
   "cell_type": "markdown",
   "metadata": {},
   "source": [
    "# Sample tree plots"
   ]
  },
  {
   "cell_type": "code",
   "execution_count": null,
   "metadata": {
    "collapsed": true
   },
   "outputs": [],
   "source": [
    "import numpy as np\n",
    "import pandas as pd\n",
    "\n",
    "%matplotlib inline\n",
    "import matplotlib.pyplot as plt\n",
    "\n",
    "from crossing_tree import fbm, crossings, crossing_tree"
   ]
  },
  {
   "cell_type": "markdown",
   "metadata": {},
   "source": [
    "Set the path length and the Hurst exponent"
   ]
  },
  {
   "cell_type": "code",
   "execution_count": null,
   "metadata": {
    "collapsed": true
   },
   "outputs": [],
   "source": [
    "N, H = 2**21+1, 0.55\n",
    "\n",
    "gen = fbm(N, H, time=True)\n",
    "gen.initialize(np.random.RandomState(123))\n",
    "\n",
    "## Generate a sample path\n",
    "T, X = gen()"
   ]
  },
  {
   "cell_type": "markdown",
   "metadata": {},
   "source": [
    "Get the crossing times, levels and offspring structure"
   ]
  },
  {
   "cell_type": "code",
   "execution_count": null,
   "metadata": {
    "collapsed": false
   },
   "outputs": [],
   "source": [
    "## Set the base scale to the median\n",
    "scale = np.median(np.abs(np.diff(X)))\n",
    "origin = X[0]\n",
    "\n",
    "## Build a crossing tree\n",
    "xi, ti, offspring, Vnk, Znk, Wnk = crossing_tree(X, T, scale, origin=origin)\n",
    "\n",
    "# Rebuild the tree\n",
    "index = list([offspring[0]])\n",
    "for index_ in offspring[1:]:\n",
    "    index.append(index[-1][index_])\n",
    "\n",
    "Xnk = [xi.base[index_] for index_ in index]\n",
    "Tnk = [ti.base[index_] for index_ in index]"
   ]
  },
  {
   "cell_type": "markdown",
   "metadata": {},
   "source": [
    "Choose the levels to plot."
   ]
  },
  {
   "cell_type": "code",
   "execution_count": null,
   "metadata": {
    "collapsed": true
   },
   "outputs": [],
   "source": [
    "l = len(Tnk) - 2\n",
    "levels = np.arange(l-4, l+1, dtype=np.int)"
   ]
  },
  {
   "cell_type": "markdown",
   "metadata": {},
   "source": [
    "Plot the crossings"
   ]
  },
  {
   "cell_type": "code",
   "execution_count": null,
   "metadata": {
    "collapsed": false
   },
   "outputs": [],
   "source": [
    "## Plot the sample path                                      \n",
    "fig = plt.figure(figsize=(6, 5))\n",
    "ax = fig.add_subplot(111)\n",
    "\n",
    "ax.set_xticks(np.linspace(0, 1, num=11), minor=False)\n",
    "ax.set_xticks(Tnk[levels[0]], minor=True)\n",
    "ax.set_xticklabels([\"%0.2f\"%(t,) for t in np.linspace(0, 1, num=11)],\n",
    "                   minor=False)\n",
    "\n",
    "delta = 2 * scale * (1 << levels[0])\n",
    "xm, xM = (Xnk[levels[0]] - origin).min() / delta, (Xnk[levels[0]] - origin).max() / delta\n",
    "ax.set_yticks(origin + np.arange(xm-1, xM+2) * delta)\n",
    "\n",
    "ax.plot(T, X, linestyle='-', color='gray', label='X(t)', alpha=0.5)\n",
    "color=plt.cm.rainbow_r(np.linspace(0, 1, len(levels)))\n",
    "for j, col_ in zip(levels, color):\n",
    "    ax.plot(Tnk[j], Xnk[j], '-s', color=col_, markersize=4, alpha=0.75)\n",
    "\n",
    "ax.grid(color='k', linestyle='-', alpha=0.15, zorder=-99)\n",
    "ax.set_xlim(-0.01, 1.01)\n",
    "\n",
    "plt.savefig(\"../plots/sample_path.pdf\", format='pdf')\n",
    "plt.close();"
   ]
  },
  {
   "cell_type": "markdown",
   "metadata": {},
   "source": [
    "Draw the corresponding crossing tree"
   ]
  },
  {
   "cell_type": "code",
   "execution_count": null,
   "metadata": {
    "collapsed": false,
    "scrolled": false
   },
   "outputs": [],
   "source": [
    "fig = plt.figure(figsize=(6, 5))\n",
    "ax = fig.add_subplot(111)\n",
    "\n",
    "ax.set_xticks(np.linspace(0, 1, num=11), minor=False)\n",
    "ax.set_xticks(Tnk[levels[0]], minor=True)\n",
    "ax.set_xticklabels([\"%0.2f\"%(t,) for t in np.linspace(0, 1, num=11)],\n",
    "                     minor=False )\n",
    "\n",
    "colors = plt.cm.rainbow_r(np.linspace(0, 1, len(levels)))\n",
    "for j, col_ in zip(levels, colors):\n",
    "    lht0, lht1 = Tnk[j], Tnk[j+1]\n",
    "    offs_ = offspring[j+1]\n",
    "    parent = np.repeat(np.arange(len(offs_) - 1), np.diff(offs_))\n",
    "    parent = np.r_[parent, np.repeat(len(offs_) - 1, len(lht0) - offs_[-1])]\n",
    "    p_ti = np.r_[np.repeat(np.nan, offs_[0]), lht1[parent]]\n",
    "## Draw the line segments between two levels\n",
    "    delta = (1 << j)\n",
    "    ax.plot([p_ti, lht0], [len(lht0) * [2 * delta], len(lht0) * [delta]],\n",
    "            '-s', color=col_, markersize=2, lw=.5)\n",
    "\n",
    "ax.grid(color='k', linestyle='-', alpha=0.05, zorder=-99)\n",
    "\n",
    "ax.set_yscale(\"log\", basey=2)\n",
    "ax.set_xlim(-0.01, 1.01)\n",
    "ax.set_ylim(0.9 * (1 << levels[0]), 1.1 * (1 << levels[-1] + 1))\n",
    "\n",
    "ax.set_ylabel(r\"$\\delta \\times 2^k$\")\n",
    "\n",
    "plt.savefig(\"../plots/sample_tree.pdf\", format='pdf')\n",
    "plt.close();"
   ]
  },
  {
   "cell_type": "code",
   "execution_count": null,
   "metadata": {
    "collapsed": true
   },
   "outputs": [],
   "source": []
  }
 ],
 "metadata": {
  "kernelspec": {
   "display_name": "Python 2",
   "language": "python",
   "name": "python2"
  },
  "language_info": {
   "codemirror_mode": {
    "name": "ipython",
    "version": 2
   },
   "file_extension": ".py",
   "mimetype": "text/x-python",
   "name": "python",
   "nbconvert_exporter": "python",
   "pygments_lexer": "ipython2",
   "version": "2.7.10"
  }
 },
 "nbformat": 4,
 "nbformat_minor": 0
}
